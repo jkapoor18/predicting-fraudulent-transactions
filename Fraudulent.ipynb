{
 "cells": [
  {
   "cell_type": "markdown",
   "id": "8001821a",
   "metadata": {},
   "source": [
    "# Question\n",
    "\n",
    "Develop a model for predicting fraudulent transactions for a financial company and use insights from the model to develop an actionable plan. Data for the case is available in CSV format having 6362620 rows and 10 columns.\n",
    "\n",
    "## Workflow\n",
    "- Reading and understanding the data\n",
    "- EDA\n",
    "- Handling data imbalance\n",
    "- Building logistic regression models\n",
    "- Model evaluation\n",
    "- Building Random forest model\n",
    "- Evaluating rf model\n"
   ]
  },
  {
   "cell_type": "code",
   "execution_count": 24,
   "id": "9e35e9af",
   "metadata": {},
   "outputs": [],
   "source": [
    "# importing libraries\n",
    "import numpy as np,pandas as pd\n",
    "import matplotlib.pyplot as plt\n",
    "import seaborn as sns\n",
    "%matplotlib inline"
   ]
  },
  {
   "cell_type": "code",
   "execution_count": 25,
   "id": "3b0ebbe2",
   "metadata": {},
   "outputs": [],
   "source": [
    "import warnings\n",
    "warnings.filterwarnings('ignore')"
   ]
  },
  {
   "cell_type": "markdown",
   "id": "a4e58635",
   "metadata": {},
   "source": [
    "##  Reading and understanding the data"
   ]
  },
  {
   "cell_type": "code",
   "execution_count": 26,
   "id": "6481e327",
   "metadata": {},
   "outputs": [
    {
     "data": {
      "text/html": [
       "<div>\n",
       "<style scoped>\n",
       "    .dataframe tbody tr th:only-of-type {\n",
       "        vertical-align: middle;\n",
       "    }\n",
       "\n",
       "    .dataframe tbody tr th {\n",
       "        vertical-align: top;\n",
       "    }\n",
       "\n",
       "    .dataframe thead th {\n",
       "        text-align: right;\n",
       "    }\n",
       "</style>\n",
       "<table border=\"1\" class=\"dataframe\">\n",
       "  <thead>\n",
       "    <tr style=\"text-align: right;\">\n",
       "      <th></th>\n",
       "      <th>step</th>\n",
       "      <th>type</th>\n",
       "      <th>amount</th>\n",
       "      <th>nameOrig</th>\n",
       "      <th>oldbalanceOrg</th>\n",
       "      <th>newbalanceOrig</th>\n",
       "      <th>nameDest</th>\n",
       "      <th>oldbalanceDest</th>\n",
       "      <th>newbalanceDest</th>\n",
       "      <th>isFraud</th>\n",
       "      <th>isFlaggedFraud</th>\n",
       "    </tr>\n",
       "  </thead>\n",
       "  <tbody>\n",
       "    <tr>\n",
       "      <th>0</th>\n",
       "      <td>1</td>\n",
       "      <td>PAYMENT</td>\n",
       "      <td>9839.64</td>\n",
       "      <td>C1231006815</td>\n",
       "      <td>170136.0</td>\n",
       "      <td>160296.36</td>\n",
       "      <td>M1979787155</td>\n",
       "      <td>0.0</td>\n",
       "      <td>0.0</td>\n",
       "      <td>0</td>\n",
       "      <td>0</td>\n",
       "    </tr>\n",
       "    <tr>\n",
       "      <th>1</th>\n",
       "      <td>1</td>\n",
       "      <td>PAYMENT</td>\n",
       "      <td>1864.28</td>\n",
       "      <td>C1666544295</td>\n",
       "      <td>21249.0</td>\n",
       "      <td>19384.72</td>\n",
       "      <td>M2044282225</td>\n",
       "      <td>0.0</td>\n",
       "      <td>0.0</td>\n",
       "      <td>0</td>\n",
       "      <td>0</td>\n",
       "    </tr>\n",
       "    <tr>\n",
       "      <th>2</th>\n",
       "      <td>1</td>\n",
       "      <td>TRANSFER</td>\n",
       "      <td>181.00</td>\n",
       "      <td>C1305486145</td>\n",
       "      <td>181.0</td>\n",
       "      <td>0.00</td>\n",
       "      <td>C553264065</td>\n",
       "      <td>0.0</td>\n",
       "      <td>0.0</td>\n",
       "      <td>1</td>\n",
       "      <td>0</td>\n",
       "    </tr>\n",
       "    <tr>\n",
       "      <th>3</th>\n",
       "      <td>1</td>\n",
       "      <td>CASH_OUT</td>\n",
       "      <td>181.00</td>\n",
       "      <td>C840083671</td>\n",
       "      <td>181.0</td>\n",
       "      <td>0.00</td>\n",
       "      <td>C38997010</td>\n",
       "      <td>21182.0</td>\n",
       "      <td>0.0</td>\n",
       "      <td>1</td>\n",
       "      <td>0</td>\n",
       "    </tr>\n",
       "    <tr>\n",
       "      <th>4</th>\n",
       "      <td>1</td>\n",
       "      <td>PAYMENT</td>\n",
       "      <td>11668.14</td>\n",
       "      <td>C2048537720</td>\n",
       "      <td>41554.0</td>\n",
       "      <td>29885.86</td>\n",
       "      <td>M1230701703</td>\n",
       "      <td>0.0</td>\n",
       "      <td>0.0</td>\n",
       "      <td>0</td>\n",
       "      <td>0</td>\n",
       "    </tr>\n",
       "  </tbody>\n",
       "</table>\n",
       "</div>"
      ],
      "text/plain": [
       "   step      type    amount     nameOrig  oldbalanceOrg  newbalanceOrig  \\\n",
       "0     1   PAYMENT   9839.64  C1231006815       170136.0       160296.36   \n",
       "1     1   PAYMENT   1864.28  C1666544295        21249.0        19384.72   \n",
       "2     1  TRANSFER    181.00  C1305486145          181.0            0.00   \n",
       "3     1  CASH_OUT    181.00   C840083671          181.0            0.00   \n",
       "4     1   PAYMENT  11668.14  C2048537720        41554.0        29885.86   \n",
       "\n",
       "      nameDest  oldbalanceDest  newbalanceDest  isFraud  isFlaggedFraud  \n",
       "0  M1979787155             0.0             0.0        0               0  \n",
       "1  M2044282225             0.0             0.0        0               0  \n",
       "2   C553264065             0.0             0.0        1               0  \n",
       "3    C38997010         21182.0             0.0        1               0  \n",
       "4  M1230701703             0.0             0.0        0               0  "
      ]
     },
     "execution_count": 26,
     "metadata": {},
     "output_type": "execute_result"
    }
   ],
   "source": [
    "#storing data to df\n",
    "df = pd.read_csv(\"Fraud.csv\")\n",
    "df.head()"
   ]
  },
  {
   "cell_type": "code",
   "execution_count": 27,
   "id": "667cde64",
   "metadata": {},
   "outputs": [
    {
     "data": {
      "text/plain": [
       "(6362620, 11)"
      ]
     },
     "execution_count": 27,
     "metadata": {},
     "output_type": "execute_result"
    }
   ],
   "source": [
    "#number of rows and columns in df\n",
    "df.shape"
   ]
  },
  {
   "cell_type": "markdown",
   "id": "8010a988",
   "metadata": {},
   "source": [
    "-  There are 6362620 rows and 11 columns in the data set\n",
    "\n"
   ]
  },
  {
   "cell_type": "code",
   "execution_count": 28,
   "id": "913b9694",
   "metadata": {},
   "outputs": [
    {
     "data": {
      "text/plain": [
       "(6362620, 11)"
      ]
     },
     "execution_count": 28,
     "metadata": {},
     "output_type": "execute_result"
    }
   ],
   "source": [
    "# dropping duplicate rows\n",
    "df.drop_duplicates(inplace =True)\n",
    "df.shape"
   ]
  },
  {
   "cell_type": "markdown",
   "id": "7ec3e79f",
   "metadata": {},
   "source": [
    "- Since the shape of df before and after dropping duplicates are the same, we could say that there are no duplicate rows in df"
   ]
  },
  {
   "cell_type": "code",
   "execution_count": 29,
   "id": "5b83da32",
   "metadata": {},
   "outputs": [
    {
     "data": {
      "text/html": [
       "<div>\n",
       "<style scoped>\n",
       "    .dataframe tbody tr th:only-of-type {\n",
       "        vertical-align: middle;\n",
       "    }\n",
       "\n",
       "    .dataframe tbody tr th {\n",
       "        vertical-align: top;\n",
       "    }\n",
       "\n",
       "    .dataframe thead th {\n",
       "        text-align: right;\n",
       "    }\n",
       "</style>\n",
       "<table border=\"1\" class=\"dataframe\">\n",
       "  <thead>\n",
       "    <tr style=\"text-align: right;\">\n",
       "      <th></th>\n",
       "      <th>step</th>\n",
       "      <th>amount</th>\n",
       "      <th>oldbalanceOrg</th>\n",
       "      <th>newbalanceOrig</th>\n",
       "      <th>oldbalanceDest</th>\n",
       "      <th>newbalanceDest</th>\n",
       "      <th>isFraud</th>\n",
       "      <th>isFlaggedFraud</th>\n",
       "    </tr>\n",
       "  </thead>\n",
       "  <tbody>\n",
       "    <tr>\n",
       "      <th>count</th>\n",
       "      <td>6.362620e+06</td>\n",
       "      <td>6.362620e+06</td>\n",
       "      <td>6.362620e+06</td>\n",
       "      <td>6.362620e+06</td>\n",
       "      <td>6.362620e+06</td>\n",
       "      <td>6.362620e+06</td>\n",
       "      <td>6.362620e+06</td>\n",
       "      <td>6.362620e+06</td>\n",
       "    </tr>\n",
       "    <tr>\n",
       "      <th>mean</th>\n",
       "      <td>2.433972e+02</td>\n",
       "      <td>1.798619e+05</td>\n",
       "      <td>8.338831e+05</td>\n",
       "      <td>8.551137e+05</td>\n",
       "      <td>1.100702e+06</td>\n",
       "      <td>1.224996e+06</td>\n",
       "      <td>1.290820e-03</td>\n",
       "      <td>2.514687e-06</td>\n",
       "    </tr>\n",
       "    <tr>\n",
       "      <th>std</th>\n",
       "      <td>1.423320e+02</td>\n",
       "      <td>6.038582e+05</td>\n",
       "      <td>2.888243e+06</td>\n",
       "      <td>2.924049e+06</td>\n",
       "      <td>3.399180e+06</td>\n",
       "      <td>3.674129e+06</td>\n",
       "      <td>3.590480e-02</td>\n",
       "      <td>1.585775e-03</td>\n",
       "    </tr>\n",
       "    <tr>\n",
       "      <th>min</th>\n",
       "      <td>1.000000e+00</td>\n",
       "      <td>0.000000e+00</td>\n",
       "      <td>0.000000e+00</td>\n",
       "      <td>0.000000e+00</td>\n",
       "      <td>0.000000e+00</td>\n",
       "      <td>0.000000e+00</td>\n",
       "      <td>0.000000e+00</td>\n",
       "      <td>0.000000e+00</td>\n",
       "    </tr>\n",
       "    <tr>\n",
       "      <th>25%</th>\n",
       "      <td>1.560000e+02</td>\n",
       "      <td>1.338957e+04</td>\n",
       "      <td>0.000000e+00</td>\n",
       "      <td>0.000000e+00</td>\n",
       "      <td>0.000000e+00</td>\n",
       "      <td>0.000000e+00</td>\n",
       "      <td>0.000000e+00</td>\n",
       "      <td>0.000000e+00</td>\n",
       "    </tr>\n",
       "    <tr>\n",
       "      <th>50%</th>\n",
       "      <td>2.390000e+02</td>\n",
       "      <td>7.487194e+04</td>\n",
       "      <td>1.420800e+04</td>\n",
       "      <td>0.000000e+00</td>\n",
       "      <td>1.327057e+05</td>\n",
       "      <td>2.146614e+05</td>\n",
       "      <td>0.000000e+00</td>\n",
       "      <td>0.000000e+00</td>\n",
       "    </tr>\n",
       "    <tr>\n",
       "      <th>75%</th>\n",
       "      <td>3.350000e+02</td>\n",
       "      <td>2.087215e+05</td>\n",
       "      <td>1.073152e+05</td>\n",
       "      <td>1.442584e+05</td>\n",
       "      <td>9.430367e+05</td>\n",
       "      <td>1.111909e+06</td>\n",
       "      <td>0.000000e+00</td>\n",
       "      <td>0.000000e+00</td>\n",
       "    </tr>\n",
       "    <tr>\n",
       "      <th>max</th>\n",
       "      <td>7.430000e+02</td>\n",
       "      <td>9.244552e+07</td>\n",
       "      <td>5.958504e+07</td>\n",
       "      <td>4.958504e+07</td>\n",
       "      <td>3.560159e+08</td>\n",
       "      <td>3.561793e+08</td>\n",
       "      <td>1.000000e+00</td>\n",
       "      <td>1.000000e+00</td>\n",
       "    </tr>\n",
       "  </tbody>\n",
       "</table>\n",
       "</div>"
      ],
      "text/plain": [
       "               step        amount  oldbalanceOrg  newbalanceOrig  \\\n",
       "count  6.362620e+06  6.362620e+06   6.362620e+06    6.362620e+06   \n",
       "mean   2.433972e+02  1.798619e+05   8.338831e+05    8.551137e+05   \n",
       "std    1.423320e+02  6.038582e+05   2.888243e+06    2.924049e+06   \n",
       "min    1.000000e+00  0.000000e+00   0.000000e+00    0.000000e+00   \n",
       "25%    1.560000e+02  1.338957e+04   0.000000e+00    0.000000e+00   \n",
       "50%    2.390000e+02  7.487194e+04   1.420800e+04    0.000000e+00   \n",
       "75%    3.350000e+02  2.087215e+05   1.073152e+05    1.442584e+05   \n",
       "max    7.430000e+02  9.244552e+07   5.958504e+07    4.958504e+07   \n",
       "\n",
       "       oldbalanceDest  newbalanceDest       isFraud  isFlaggedFraud  \n",
       "count    6.362620e+06    6.362620e+06  6.362620e+06    6.362620e+06  \n",
       "mean     1.100702e+06    1.224996e+06  1.290820e-03    2.514687e-06  \n",
       "std      3.399180e+06    3.674129e+06  3.590480e-02    1.585775e-03  \n",
       "min      0.000000e+00    0.000000e+00  0.000000e+00    0.000000e+00  \n",
       "25%      0.000000e+00    0.000000e+00  0.000000e+00    0.000000e+00  \n",
       "50%      1.327057e+05    2.146614e+05  0.000000e+00    0.000000e+00  \n",
       "75%      9.430367e+05    1.111909e+06  0.000000e+00    0.000000e+00  \n",
       "max      3.560159e+08    3.561793e+08  1.000000e+00    1.000000e+00  "
      ]
     },
     "execution_count": 29,
     "metadata": {},
     "output_type": "execute_result"
    }
   ],
   "source": [
    "#describing numerical columns\n",
    "df.describe()"
   ]
  },
  {
   "cell_type": "code",
   "execution_count": 30,
   "id": "220a51bf",
   "metadata": {},
   "outputs": [
    {
     "name": "stdout",
     "output_type": "stream",
     "text": [
      "<class 'pandas.core.frame.DataFrame'>\n",
      "Int64Index: 6362620 entries, 0 to 6362619\n",
      "Data columns (total 11 columns):\n",
      " #   Column          Dtype  \n",
      "---  ------          -----  \n",
      " 0   step            int64  \n",
      " 1   type            object \n",
      " 2   amount          float64\n",
      " 3   nameOrig        object \n",
      " 4   oldbalanceOrg   float64\n",
      " 5   newbalanceOrig  float64\n",
      " 6   nameDest        object \n",
      " 7   oldbalanceDest  float64\n",
      " 8   newbalanceDest  float64\n",
      " 9   isFraud         int64  \n",
      " 10  isFlaggedFraud  int64  \n",
      "dtypes: float64(5), int64(3), object(3)\n",
      "memory usage: 582.5+ MB\n"
     ]
    }
   ],
   "source": [
    "# checking data types of columns\n",
    "df.info()"
   ]
  },
  {
   "cell_type": "markdown",
   "id": "3d65a65e",
   "metadata": {},
   "source": [
    "#### Outlier analysis"
   ]
  },
  {
   "cell_type": "markdown",
   "id": "cbefb945",
   "metadata": {},
   "source": [
    "- Since the bank data has only account balances and transfer amounts, it can take any real number\n",
    "- so there is no need for analyzing outliers separately. I already described the numerical columns, and they look satisfactory"
   ]
  },
  {
   "cell_type": "code",
   "execution_count": 31,
   "id": "714df70a",
   "metadata": {},
   "outputs": [
    {
     "data": {
      "image/png": "[encoded data removed]",
      "text/plain": [
       "<Figure size 864x432 with 1 Axes>"
      ]
     },
     "metadata": {
      "needs_background": "light"
     },
     "output_type": "display_data"
    }
   ],
   "source": [
    "df.select_dtypes('number').plot.box(figsize=(12,6))\n",
    "plt.xticks(rotation=90)\n",
    "plt.show()                                    "
   ]
  },
  {
   "cell_type": "markdown",
   "id": "2fbd910e",
   "metadata": {},
   "source": [
    "#### Handling missing values and further cleaning the data"
   ]
  },
  {
   "cell_type": "code",
   "execution_count": 32,
   "id": "8dce8404",
   "metadata": {},
   "outputs": [
    {
     "data": {
      "text/plain": [
       "step              0\n",
       "type              0\n",
       "amount            0\n",
       "nameOrig          0\n",
       "oldbalanceOrg     0\n",
       "newbalanceOrig    0\n",
       "nameDest          0\n",
       "oldbalanceDest    0\n",
       "newbalanceDest    0\n",
       "isFraud           0\n",
       "isFlaggedFraud    0\n",
       "dtype: int64"
      ]
     },
     "execution_count": 32,
     "metadata": {},
     "output_type": "execute_result"
    }
   ],
   "source": [
    "# Checking for null values\n",
    "df.isnull().sum()"
   ]
  },
  {
   "cell_type": "markdown",
   "id": "cf376113",
   "metadata": {},
   "source": [
    "    # there are no missing values"
   ]
  },
  {
   "cell_type": "markdown",
   "id": "94814608",
   "metadata": {},
   "source": [
    "\n"
   ]
  },
  {
   "cell_type": "code",
   "execution_count": 33,
   "id": "c45153b9",
   "metadata": {},
   "outputs": [],
   "source": [
    "#### 'oldbalanceDest' and 'newbalanceDest'"
   ]
  },
  {
   "cell_type": "markdown",
   "id": "06ebb9c5",
   "metadata": {},
   "source": [
    "Tthere is no information for customers that start with M  (given in quesion)"
   ]
  },
  {
   "cell_type": "code",
   "execution_count": 34,
   "id": "44574b72",
   "metadata": {},
   "outputs": [
    {
     "data": {
      "text/plain": [
       "(2151495, 11)"
      ]
     },
     "execution_count": 34,
     "metadata": {},
     "output_type": "execute_result"
    }
   ],
   "source": [
    "# number of customers that start with M\n",
    "df[df.nameDest.str.startswith('M')].shape"
   ]
  },
  {
   "cell_type": "code",
   "execution_count": 35,
   "id": "b508e09f",
   "metadata": {
    "scrolled": true
   },
   "outputs": [
    {
     "data": {
      "text/html": [
       "<div>\n",
       "<style scoped>\n",
       "    .dataframe tbody tr th:only-of-type {\n",
       "        vertical-align: middle;\n",
       "    }\n",
       "\n",
       "    .dataframe tbody tr th {\n",
       "        vertical-align: top;\n",
       "    }\n",
       "\n",
       "    .dataframe thead th {\n",
       "        text-align: right;\n",
       "    }\n",
       "</style>\n",
       "<table border=\"1\" class=\"dataframe\">\n",
       "  <thead>\n",
       "    <tr style=\"text-align: right;\">\n",
       "      <th></th>\n",
       "      <th>oldbalanceDest</th>\n",
       "      <th>newbalanceDest</th>\n",
       "    </tr>\n",
       "  </thead>\n",
       "  <tbody>\n",
       "    <tr>\n",
       "      <th>count</th>\n",
       "      <td>2151495.0</td>\n",
       "      <td>2151495.0</td>\n",
       "    </tr>\n",
       "    <tr>\n",
       "      <th>mean</th>\n",
       "      <td>0.0</td>\n",
       "      <td>0.0</td>\n",
       "    </tr>\n",
       "    <tr>\n",
       "      <th>std</th>\n",
       "      <td>0.0</td>\n",
       "      <td>0.0</td>\n",
       "    </tr>\n",
       "    <tr>\n",
       "      <th>min</th>\n",
       "      <td>0.0</td>\n",
       "      <td>0.0</td>\n",
       "    </tr>\n",
       "    <tr>\n",
       "      <th>25%</th>\n",
       "      <td>0.0</td>\n",
       "      <td>0.0</td>\n",
       "    </tr>\n",
       "    <tr>\n",
       "      <th>50%</th>\n",
       "      <td>0.0</td>\n",
       "      <td>0.0</td>\n",
       "    </tr>\n",
       "    <tr>\n",
       "      <th>75%</th>\n",
       "      <td>0.0</td>\n",
       "      <td>0.0</td>\n",
       "    </tr>\n",
       "    <tr>\n",
       "      <th>max</th>\n",
       "      <td>0.0</td>\n",
       "      <td>0.0</td>\n",
       "    </tr>\n",
       "  </tbody>\n",
       "</table>\n",
       "</div>"
      ],
      "text/plain": [
       "       oldbalanceDest  newbalanceDest\n",
       "count       2151495.0       2151495.0\n",
       "mean              0.0             0.0\n",
       "std               0.0             0.0\n",
       "min               0.0             0.0\n",
       "25%               0.0             0.0\n",
       "50%               0.0             0.0\n",
       "75%               0.0             0.0\n",
       "max               0.0             0.0"
      ]
     },
     "execution_count": 35,
     "metadata": {},
     "output_type": "execute_result"
    }
   ],
   "source": [
    "df[df.nameDest.str.startswith('M')][['oldbalanceDest','newbalanceDest']].describe()"
   ]
  },
  {
   "cell_type": "markdown",
   "id": "22970835",
   "metadata": {},
   "source": [
    "- For 'oldbalanceDest' and 'newbalanceDest',there is no information for customers that start with M (Merchants)."
   ]
  },
  {
   "cell_type": "code",
   "execution_count": 36,
   "id": "1a7452ae",
   "metadata": {},
   "outputs": [
    {
     "data": {
      "text/plain": [
       "33.81460781879163"
      ]
     },
     "execution_count": 36,
     "metadata": {},
     "output_type": "execute_result"
    }
   ],
   "source": [
    "100*df[df.nameDest.str.startswith('M')].shape[0]/df.shape[0]"
   ]
  },
  {
   "cell_type": "code",
   "execution_count": 37,
   "id": "8869252a",
   "metadata": {
    "scrolled": true
   },
   "outputs": [
    {
     "data": {
      "text/plain": [
       "0    2151495\n",
       "Name: isFraud, dtype: int64"
      ]
     },
     "execution_count": 37,
     "metadata": {},
     "output_type": "execute_result"
    }
   ],
   "source": [
    "# checking how many of them belong to normal/fraud categories\n",
    "df[df.nameDest.str.startswith('M')]['isFraud'].value_counts()"
   ]
  },
  {
   "cell_type": "markdown",
   "id": "5827026c",
   "metadata": {},
   "source": [
    "- There are  2151495 transactions where recipients are Merchants\n",
    "- We do not have information about their  'oldbalanceDest' and 'newbalanceDest' values.\n",
    "- However, none of these transactions where fraudulent, so it may not have s significant impact on the performance of the model. We could either impute the missing values or simply drop the rows."
   ]
  },
  {
   "cell_type": "code",
   "execution_count": 38,
   "id": "6a22588b",
   "metadata": {},
   "outputs": [],
   "source": [
    "# dropping transacrions where recipients are Merchants\n",
    "df = df[~df.nameDest.str.startswith('M')]"
   ]
  },
  {
   "cell_type": "code",
   "execution_count": 39,
   "id": "d15cbd85",
   "metadata": {
    "scrolled": true
   },
   "outputs": [
    {
     "data": {
      "text/plain": [
       "(4211125, 11)"
      ]
     },
     "execution_count": 39,
     "metadata": {},
     "output_type": "execute_result"
    }
   ],
   "source": [
    "df.shape"
   ]
  },
  {
   "cell_type": "markdown",
   "id": "5fafb855",
   "metadata": {},
   "source": [
    "\n"
   ]
  },
  {
   "cell_type": "code",
   "execution_count": 40,
   "id": "3def71d7",
   "metadata": {},
   "outputs": [],
   "source": [
    "### Type of transaction"
   ]
  },
  {
   "cell_type": "code",
   "execution_count": 41,
   "id": "71cb25f4",
   "metadata": {
    "scrolled": false
   },
   "outputs": [
    {
     "data": {
      "text/plain": [
       "CASH_OUT    2237500\n",
       "CASH_IN     1399284\n",
       "TRANSFER     532909\n",
       "DEBIT         41432\n",
       "Name: type, dtype: int64"
      ]
     },
     "execution_count": 41,
     "metadata": {},
     "output_type": "execute_result"
    }
   ],
   "source": [
    "df.type.value_counts()"
   ]
  },
  {
   "cell_type": "code",
   "execution_count": 42,
   "id": "51755956",
   "metadata": {
    "scrolled": true
   },
   "outputs": [
    {
     "data": {
      "text/plain": [
       "type      isFraud\n",
       "CASH_IN   0          1399284\n",
       "CASH_OUT  0          2233384\n",
       "          1             4116\n",
       "DEBIT     0            41432\n",
       "TRANSFER  0           528812\n",
       "          1             4097\n",
       "Name: isFraud, dtype: int64"
      ]
     },
     "execution_count": 42,
     "metadata": {},
     "output_type": "execute_result"
    }
   ],
   "source": [
    "df.groupby('type')['isFraud'].value_counts()"
   ]
  },
  {
   "cell_type": "code",
   "execution_count": 43,
   "id": "3964b384",
   "metadata": {},
   "outputs": [
    {
     "data": {
      "text/plain": [
       "<AxesSubplot:ylabel='isFraud'>"
      ]
     },
     "execution_count": 43,
     "metadata": {},
     "output_type": "execute_result"
    },
    {
     "data": {
      "image/png": "[encoded data removed]",
      "text/plain": [
       "<Figure size 432x288 with 1 Axes>"
      ]
     },
     "metadata": {},
     "output_type": "display_data"
    }
   ],
   "source": [
    "df.groupby('type')['isFraud'].value_counts().plot.pie()"
   ]
  },
  {
   "cell_type": "markdown",
   "id": "454edda8",
   "metadata": {},
   "source": [
    "- There are no fraudulent transactions in 'CASH_IN' or 'DEBIT' type of transactions\n",
    "- So it makes sense to consider only 'CASH_OUT' and 'TRANSFER' (types having fraudulent transactions), while building the model. By doing so the accuracy of the model can be increased by focusing on the relevant data."
   ]
  },
  {
   "cell_type": "code",
   "execution_count": 44,
   "id": "cebf6a59",
   "metadata": {
    "scrolled": true
   },
   "outputs": [
    {
     "data": {
      "text/plain": [
       "(2770409, 11)"
      ]
     },
     "execution_count": 44,
     "metadata": {},
     "output_type": "execute_result"
    }
   ],
   "source": [
    "# for further analysis I am considering only those transactions where type is either 'CASH_OUT' or 'TRANSFER\n",
    "\n",
    "df = df[(df.type=='CASH_OUT') | (df.type=='TRANSFER')]\n",
    "df.shape"
   ]
  },
  {
   "cell_type": "markdown",
   "id": "1c908b44",
   "metadata": {},
   "source": [
    "\n"
   ]
  },
  {
   "cell_type": "code",
   "execution_count": 45,
   "id": "7677dba7",
   "metadata": {},
   "outputs": [],
   "source": [
    "##### \"nameOrig\" and 'nameDest'"
   ]
  },
  {
   "cell_type": "code",
   "execution_count": 46,
   "id": "837bc9a5",
   "metadata": {
    "scrolled": true
   },
   "outputs": [
    {
     "data": {
      "text/plain": [
       "C1193568854    2\n",
       "C104038589     2\n",
       "C200064275     2\n",
       "C1497532505    2\n",
       "C1601170327    2\n",
       "              ..\n",
       "C317811789     1\n",
       "C24324787      1\n",
       "C1053414206    1\n",
       "C2013070624    1\n",
       "C873221189     1\n",
       "Name: nameDest, Length: 8169, dtype: int64"
      ]
     },
     "execution_count": 46,
     "metadata": {},
     "output_type": "execute_result"
    }
   ],
   "source": [
    "df[df.isFraud==1].nameDest.value_counts()"
   ]
  },
  {
   "cell_type": "code",
   "execution_count": 47,
   "id": "b651db68",
   "metadata": {
    "scrolled": true
   },
   "outputs": [
    {
     "data": {
      "text/plain": [
       "C1305486145    1\n",
       "C755286039     1\n",
       "C973279667     1\n",
       "C258213312     1\n",
       "C1640703547    1\n",
       "              ..\n",
       "C570536992     1\n",
       "C980546604     1\n",
       "C58682758      1\n",
       "C351713185     1\n",
       "C1280323807    1\n",
       "Name: nameOrig, Length: 8213, dtype: int64"
      ]
     },
     "execution_count": 47,
     "metadata": {},
     "output_type": "execute_result"
    }
   ],
   "source": [
    "df[df.isFraud==1].nameOrig.value_counts()"
   ]
  },
  {
   "cell_type": "markdown",
   "id": "2a500af6",
   "metadata": {},
   "source": [
    "- From above two observations it is clear that among the 8213 fraud transactions there is no originator or recipient who is involved in more than 2 fraud transactions, ie, no customer(names) is consistently being involved in fraudulent transactions.\n",
    "- So I can remove these two variables from the data set\n"
   ]
  },
  {
   "cell_type": "code",
   "execution_count": 48,
   "id": "e1e3d4a5",
   "metadata": {
    "scrolled": false
   },
   "outputs": [
    {
     "data": {
      "text/plain": [
       "(2770409, 9)"
      ]
     },
     "execution_count": 48,
     "metadata": {},
     "output_type": "execute_result"
    }
   ],
   "source": [
    "df.drop([\"nameOrig\", 'nameDest'],axis=1,inplace=True)\n",
    "df.shape"
   ]
  },
  {
   "cell_type": "markdown",
   "id": "d63c401a",
   "metadata": {},
   "source": [
    "\n"
   ]
  },
  {
   "cell_type": "markdown",
   "id": "74171f97",
   "metadata": {},
   "source": [
    "#### Sanity check"
   ]
  },
  {
   "cell_type": "code",
   "execution_count": 49,
   "id": "b84381da",
   "metadata": {
    "scrolled": true
   },
   "outputs": [
    {
     "data": {
      "text/plain": [
       "1308566"
      ]
     },
     "execution_count": 49,
     "metadata": {},
     "output_type": "execute_result"
    }
   ],
   "source": [
    "# checking number of rows with non zero transaction amount but zero 'oldbalanceOrg' and 'newbalanceOrig' \n",
    "df[(df.oldbalanceOrg==0)&(df.newbalanceOrig==0)&(df.amount!=0)].shape[0]"
   ]
  },
  {
   "cell_type": "code",
   "execution_count": 50,
   "id": "2675798a",
   "metadata": {},
   "outputs": [
    {
     "data": {
      "text/plain": [
       "47.233675605298714"
      ]
     },
     "execution_count": 50,
     "metadata": {},
     "output_type": "execute_result"
    }
   ],
   "source": [
    "100*1308566/df.shape[0]"
   ]
  },
  {
   "cell_type": "code",
   "execution_count": 51,
   "id": "9ad411dc",
   "metadata": {},
   "outputs": [
    {
     "data": {
      "text/plain": [
       "0    1308541\n",
       "1         25\n",
       "Name: isFraud, dtype: int64"
      ]
     },
     "execution_count": 51,
     "metadata": {},
     "output_type": "execute_result"
    }
   ],
   "source": [
    "df[(df.oldbalanceOrg==0)&(df.newbalanceOrig==0)&(df.amount!=0)].isFraud.value_counts()"
   ]
  },
  {
   "cell_type": "markdown",
   "id": "bcd24b2b",
   "metadata": {},
   "source": [
    "- When the transaction amount is non zero, there must be some difference in balance of originator  before and after transaction\n",
    "- But  there are 1308566 (47% of the data) transactions where amount is non zero but new and old balance of originators are being 0\n",
    "- This means the the data is missing at these places\n",
    "- I do not want to get rid of these rows,so I will simply keep them\n"
   ]
  },
  {
   "cell_type": "code",
   "execution_count": 52,
   "id": "5283265d",
   "metadata": {},
   "outputs": [],
   "source": [
    "df.loc[(df.oldbalanceOrg==0)&(df.newbalanceOrig==0)&(df.amount!=0),['oldbalanceOrg','newbalanceOrig']]= 0"
   ]
  },
  {
   "cell_type": "code",
   "execution_count": 53,
   "id": "7825687a",
   "metadata": {},
   "outputs": [
    {
     "data": {
      "text/plain": [
       "5776"
      ]
     },
     "execution_count": 53,
     "metadata": {},
     "output_type": "execute_result"
    }
   ],
   "source": [
    "### now  checking number of rows with non zero transaction amount but zero 'oldbalanceDest' and 'newbalanceDest'\n",
    "df[(df.oldbalanceDest==0)&(df.newbalanceDest==0)&(df.amount!=0)].shape[0]"
   ]
  },
  {
   "cell_type": "markdown",
   "id": "bd6aa4bc",
   "metadata": {},
   "source": [
    "- There are 5776 transactions where transaction amount is non zero but both bank balance of recipients are zero, before and after transaction.\n",
    "- This may not be just entries where values are missing, there is a high chance that some of these are part of fraudulent transactions.\n",
    "- So lets check how many fraud transactions are there with  transaction amount is non zero but both bank balance of recipients are zero, before and after transaction."
   ]
  },
  {
   "cell_type": "code",
   "execution_count": 54,
   "id": "0bc06dc7",
   "metadata": {},
   "outputs": [
    {
     "data": {
      "text/plain": [
       "4070"
      ]
     },
     "execution_count": 54,
     "metadata": {},
     "output_type": "execute_result"
    }
   ],
   "source": [
    "df[df.isFraud==1][(df.oldbalanceDest==0)&(df.newbalanceDest==0)&(df.amount!=0)].shape[0]"
   ]
  },
  {
   "cell_type": "markdown",
   "id": "afaca158",
   "metadata": {},
   "source": [
    "- Among the 8213 fraudulent transactions 4070 are having non zero transaction amount yet zero bank balance before and after transaction.\n",
    "- Here the actual values of missing values are unknown and it is difficult to estimate, but it is important to retain information about the presence of missing data\n",
    "- So I will replace the missing values with -1"
   ]
  },
  {
   "cell_type": "code",
   "execution_count": 55,
   "id": "11ffb3e6",
   "metadata": {},
   "outputs": [],
   "source": [
    "df.loc[(df.oldbalanceDest==0)&(df.newbalanceDest==0)&(df.amount!=0),['oldbalanceDest','newbalanceDest']] = -1"
   ]
  },
  {
   "cell_type": "markdown",
   "id": "1d6e380c",
   "metadata": {},
   "source": [
    "\n"
   ]
  },
  {
   "cell_type": "code",
   "execution_count": 56,
   "id": "3e3915b3",
   "metadata": {},
   "outputs": [],
   "source": [
    "#### ISFRAUDFLAGGED"
   ]
  },
  {
   "cell_type": "markdown",
   "id": "5043d62b",
   "metadata": {},
   "source": [
    "isFlaggedFraud - The business model flags transactions as illegal attempts if the transfer amount is more than 200,000 in a single transaction."
   ]
  },
  {
   "cell_type": "code",
   "execution_count": 57,
   "id": "a5315556",
   "metadata": {
    "scrolled": false
   },
   "outputs": [
    {
     "data": {
      "text/plain": [
       "0    2770393\n",
       "1         16\n",
       "Name: isFlaggedFraud, dtype: int64"
      ]
     },
     "execution_count": 57,
     "metadata": {},
     "output_type": "execute_result"
    }
   ],
   "source": [
    "# checking number of transactions that were flagged illegal\n",
    "df.isFlaggedFraud.value_counts()"
   ]
  },
  {
   "cell_type": "code",
   "execution_count": 58,
   "id": "564370cf",
   "metadata": {},
   "outputs": [
    {
     "data": {
      "text/plain": [
       "1197669"
      ]
     },
     "execution_count": 58,
     "metadata": {},
     "output_type": "execute_result"
    }
   ],
   "source": [
    "# Number of transactions where transfer amount was above 200000\n",
    "df[df.amount>200000].shape[0]"
   ]
  },
  {
   "cell_type": "code",
   "execution_count": 59,
   "id": "1e96c8d9",
   "metadata": {
    "scrolled": false
   },
   "outputs": [
    {
     "data": {
      "text/plain": [
       "0    2762196\n",
       "1       8213\n",
       "Name: isFraud, dtype: int64"
      ]
     },
     "execution_count": 59,
     "metadata": {},
     "output_type": "execute_result"
    }
   ],
   "source": [
    "# Number of actual fraudulent transactions\n",
    "df.isFraud.value_counts()"
   ]
  },
  {
   "cell_type": "code",
   "execution_count": 60,
   "id": "9bc1e90b",
   "metadata": {},
   "outputs": [
    {
     "data": {
      "text/plain": [
       "1    16\n",
       "Name: isFraud, dtype: int64"
      ]
     },
     "execution_count": 60,
     "metadata": {},
     "output_type": "execute_result"
    }
   ],
   "source": [
    "# Number of transactions which were flagged fraud and was actually fraudulent\n",
    "df[df.isFlaggedFraud==1].isFraud.value_counts()"
   ]
  },
  {
   "cell_type": "markdown",
   "id": "3b52d103",
   "metadata": {},
   "source": [
    "- There were only 16 transactions which were flagged fraud by IsFlaggedFraud variable\n",
    "- However there were 1197669 transactions with transfer amount more than 200000.\n",
    "- isFlaggedFraud variable is supposed to flag a transaction fraudulent if the transaction amount was above 200000 in a single transaction. There were 1673564 such transactions but the variable has flagged only 16 of them.\n",
    "- There are 8213 fraudulent transactions in the dataset, in which only 16 were flagged by the variable isFlaggedFraud.\n",
    "- From the above two points, it is pretty clear that the variable isFlaggedFraud is not much of a use. So I am dropping 'isFlaggedFraud' from df."
   ]
  },
  {
   "cell_type": "code",
   "execution_count": 61,
   "id": "7f5ed4bf",
   "metadata": {},
   "outputs": [],
   "source": [
    "# dropping 'isFlaggedFraud' from df.\n",
    "df.drop('isFlaggedFraud',axis=1,inplace=True)"
   ]
  },
  {
   "cell_type": "markdown",
   "id": "541a0643",
   "metadata": {},
   "source": [
    "\n"
   ]
  },
  {
   "cell_type": "markdown",
   "id": "a0dd4ce0",
   "metadata": {},
   "source": [
    "##### Encoding the categorical variable"
   ]
  },
  {
   "cell_type": "code",
   "execution_count": 62,
   "id": "96df56da",
   "metadata": {},
   "outputs": [],
   "source": [
    "#Encoding categorical variable 'type'\n",
    "df.type = df.type.map({'TRANSFER':1,'CASH_OUT':2})"
   ]
  },
  {
   "cell_type": "markdown",
   "id": "76f03a8a",
   "metadata": {},
   "source": [
    "\n"
   ]
  },
  {
   "cell_type": "markdown",
   "id": "3bf13076",
   "metadata": {},
   "source": [
    "#### Adding two new variables"
   ]
  },
  {
   "cell_type": "code",
   "execution_count": 63,
   "id": "fefdd1e2",
   "metadata": {},
   "outputs": [],
   "source": [
    "# difference in bank balance before and after transaction\n",
    "df['Org_bal_diff'] = abs(df.oldbalanceOrg - df.newbalanceOrig)\n",
    "df['Dest_bal_diff'] = abs(df.oldbalanceDest - df.newbalanceDest)"
   ]
  },
  {
   "cell_type": "markdown",
   "id": "d1d9de86",
   "metadata": {},
   "source": [
    "\n"
   ]
  },
  {
   "cell_type": "markdown",
   "id": "4ffcdd50",
   "metadata": {},
   "source": [
    "#### checking for multicollinearity"
   ]
  },
  {
   "cell_type": "code",
   "execution_count": 64,
   "id": "11f9f925",
   "metadata": {},
   "outputs": [
    {
     "data": {
      "text/plain": [
       "<AxesSubplot:>"
      ]
     },
     "execution_count": 64,
     "metadata": {},
     "output_type": "execute_result"
    },
    {
     "data": {
      "image/png": "[encoded data removed]",
      "text/plain": [
       "<Figure size 864x432 with 2 Axes>"
      ]
     },
     "metadata": {
      "needs_background": "light"
     },
     "output_type": "display_data"
    }
   ],
   "source": [
    "# Looking at correlation matrix to check for multicollinearity\n",
    "plt.figure(figsize=[12,6])\n",
    "sns.heatmap(df.corr(),annot=True,cmap='RdYlGn')"
   ]
  },
  {
   "cell_type": "markdown",
   "id": "2ce4cc8b",
   "metadata": {},
   "source": [
    "- Highly correlated pairs\n",
    "    - amount and Org_bal_diff\n",
    "    - 'oldbalanceDest' and Org_bal_diff\n",
    "- These variables are highly correlated, so there would be issues of multicollinearity while building the model.\n",
    "- I will not remove the variables now, I will try to build a model with all the variables and then later remove one by one after checking their VIF values"
   ]
  },
  {
   "cell_type": "markdown",
   "id": "c1ec2f2e",
   "metadata": {},
   "source": [
    "\n"
   ]
  },
  {
   "cell_type": "markdown",
   "id": "0b1f3d68",
   "metadata": {},
   "source": [
    "#### checking for data imbalance"
   ]
  },
  {
   "cell_type": "code",
   "execution_count": 65,
   "id": "8bddecd3",
   "metadata": {
    "scrolled": false
   },
   "outputs": [
    {
     "data": {
      "text/plain": [
       "0    0.997035\n",
       "1    0.002965\n",
       "Name: isFraud, dtype: float64"
      ]
     },
     "execution_count": 65,
     "metadata": {},
     "output_type": "execute_result"
    }
   ],
   "source": [
    "class_counts = df.isFraud.value_counts(normalize=True)\n",
    "class_counts"
   ]
  },
  {
   "cell_type": "markdown",
   "id": "9ebb0a67",
   "metadata": {},
   "source": [
    "- Only ~0.3% of the transactions are fraudulent, so there is an imbalance in the data\n",
    "- I will take care of this data imbalance using smote before building model"
   ]
  },
  {
   "cell_type": "markdown",
   "id": "8d41dccf",
   "metadata": {},
   "source": [
    "####class imbalance ratio <br>\n",
    "The class imbalance ratio is calculated as the number of non-fraud transactions divided by the number of fraud transactions"
   ]
  },
  {
   "cell_type": "code",
   "execution_count": 66,
   "id": "430f7b32",
   "metadata": {},
   "outputs": [
    {
     "data": {
      "text/plain": [
       "336.3199805186899"
      ]
     },
     "execution_count": 66,
     "metadata": {},
     "output_type": "execute_result"
    }
   ],
   "source": [
    "class_counts = df[\"isFraud\"].value_counts()\n",
    "# Calculating the imbalance ratio\n",
    "imbalance_ratio = class_counts[0] / class_counts[1]\n",
    "imbalance_ratio"
   ]
  },
  {
   "cell_type": "markdown",
   "id": "cc2c0116",
   "metadata": {},
   "source": [
    "- Imbalance ratio is 336.32\n"
   ]
  },
  {
   "cell_type": "markdown",
   "id": "84ba71d4",
   "metadata": {},
   "source": [
    "\n"
   ]
  },
  {
   "cell_type": "markdown",
   "id": "52067d27",
   "metadata": {},
   "source": [
    "# Building the model"
   ]
  },
  {
   "cell_type": "code",
   "execution_count": 67,
   "id": "b7bdecae",
   "metadata": {},
   "outputs": [],
   "source": [
    "# importing libraries\n",
    "import statsmodels\n",
    "import statsmodels.api as sm\n",
    "from sklearn.linear_model import LogisticRegression\n",
    "from sklearn.model_selection import train_test_split\n",
    "from sklearn.preprocessing import MinMaxScaler\n",
    "from statsmodels.stats.outliers_influence import variance_inflation_factor\n",
    "from sklearn.metrics import accuracy_score,confusion_matrix"
   ]
  },
  {
   "cell_type": "code",
   "execution_count": 68,
   "id": "49c3d5f6",
   "metadata": {},
   "outputs": [],
   "source": [
    "#putting response variable to y and features to X\n",
    "y = df.isFraud\n",
    "X = df.drop('isFraud',axis=1)"
   ]
  },
  {
   "cell_type": "markdown",
   "id": "053e95e1",
   "metadata": {},
   "source": [
    "\n",
    "#### Feature scaling"
   ]
  },
  {
   "cell_type": "code",
   "execution_count": 69,
   "id": "4bf139ca",
   "metadata": {},
   "outputs": [],
   "source": [
    "# numerical columns in df\n",
    "num_col = X.select_dtypes('number').columns"
   ]
  },
  {
   "cell_type": "code",
   "execution_count": 70,
   "id": "8ac61615",
   "metadata": {
    "scrolled": false
   },
   "outputs": [
    {
     "data": {
      "text/html": [
       "<div>\n",
       "<style scoped>\n",
       "    .dataframe tbody tr th:only-of-type {\n",
       "        vertical-align: middle;\n",
       "    }\n",
       "\n",
       "    .dataframe tbody tr th {\n",
       "        vertical-align: top;\n",
       "    }\n",
       "\n",
       "    .dataframe thead th {\n",
       "        text-align: right;\n",
       "    }\n",
       "</style>\n",
       "<table border=\"1\" class=\"dataframe\">\n",
       "  <thead>\n",
       "    <tr style=\"text-align: right;\">\n",
       "      <th></th>\n",
       "      <th>step</th>\n",
       "      <th>type</th>\n",
       "      <th>amount</th>\n",
       "      <th>oldbalanceOrg</th>\n",
       "      <th>newbalanceOrig</th>\n",
       "      <th>oldbalanceDest</th>\n",
       "      <th>newbalanceDest</th>\n",
       "      <th>Org_bal_diff</th>\n",
       "      <th>Dest_bal_diff</th>\n",
       "    </tr>\n",
       "  </thead>\n",
       "  <tbody>\n",
       "    <tr>\n",
       "      <th>2</th>\n",
       "      <td>0.0</td>\n",
       "      <td>0.0</td>\n",
       "      <td>0.000002</td>\n",
       "      <td>0.000003</td>\n",
       "      <td>0.0</td>\n",
       "      <td>0.000000</td>\n",
       "      <td>0.000000e+00</td>\n",
       "      <td>0.000018</td>\n",
       "      <td>0.000000</td>\n",
       "    </tr>\n",
       "    <tr>\n",
       "      <th>3</th>\n",
       "      <td>0.0</td>\n",
       "      <td>1.0</td>\n",
       "      <td>0.000002</td>\n",
       "      <td>0.000003</td>\n",
       "      <td>0.0</td>\n",
       "      <td>0.000060</td>\n",
       "      <td>2.807575e-09</td>\n",
       "      <td>0.000018</td>\n",
       "      <td>0.000200</td>\n",
       "    </tr>\n",
       "    <tr>\n",
       "      <th>15</th>\n",
       "      <td>0.0</td>\n",
       "      <td>1.0</td>\n",
       "      <td>0.002479</td>\n",
       "      <td>0.000257</td>\n",
       "      <td>0.0</td>\n",
       "      <td>0.000014</td>\n",
       "      <td>1.446306e-04</td>\n",
       "      <td>0.001532</td>\n",
       "      <td>0.000439</td>\n",
       "    </tr>\n",
       "    <tr>\n",
       "      <th>19</th>\n",
       "      <td>0.0</td>\n",
       "      <td>0.0</td>\n",
       "      <td>0.002329</td>\n",
       "      <td>0.000012</td>\n",
       "      <td>0.0</td>\n",
       "      <td>0.000063</td>\n",
       "      <td>2.807575e-09</td>\n",
       "      <td>0.000070</td>\n",
       "      <td>0.000212</td>\n",
       "    </tr>\n",
       "    <tr>\n",
       "      <th>24</th>\n",
       "      <td>0.0</td>\n",
       "      <td>0.0</td>\n",
       "      <td>0.003372</td>\n",
       "      <td>0.000182</td>\n",
       "      <td>0.0</td>\n",
       "      <td>0.000018</td>\n",
       "      <td>7.634284e-03</td>\n",
       "      <td>0.001083</td>\n",
       "      <td>0.025669</td>\n",
       "    </tr>\n",
       "  </tbody>\n",
       "</table>\n",
       "</div>"
      ],
      "text/plain": [
       "    step  type    amount  oldbalanceOrg  newbalanceOrig  oldbalanceDest  \\\n",
       "2    0.0   0.0  0.000002       0.000003             0.0        0.000000   \n",
       "3    0.0   1.0  0.000002       0.000003             0.0        0.000060   \n",
       "15   0.0   1.0  0.002479       0.000257             0.0        0.000014   \n",
       "19   0.0   0.0  0.002329       0.000012             0.0        0.000063   \n",
       "24   0.0   0.0  0.003372       0.000182             0.0        0.000018   \n",
       "\n",
       "    newbalanceDest  Org_bal_diff  Dest_bal_diff  \n",
       "2     0.000000e+00      0.000018       0.000000  \n",
       "3     2.807575e-09      0.000018       0.000200  \n",
       "15    1.446306e-04      0.001532       0.000439  \n",
       "19    2.807575e-09      0.000070       0.000212  \n",
       "24    7.634284e-03      0.001083       0.025669  "
      ]
     },
     "execution_count": 70,
     "metadata": {},
     "output_type": "execute_result"
    }
   ],
   "source": [
    "# scaling features using MinMax scaler\n",
    "scaler = MinMaxScaler()\n",
    "X[num_col] = scaler.fit_transform(X[num_col])\n",
    "X.head()"
   ]
  },
  {
   "cell_type": "markdown",
   "id": "f22413b4",
   "metadata": {},
   "source": [
    "- Features have been scaled properly\n",
    "- So Now,none of the variables will have a disproportionate effect on the model’s results."
   ]
  },
  {
   "cell_type": "markdown",
   "id": "d1abea74",
   "metadata": {},
   "source": [
    "\n"
   ]
  },
  {
   "cell_type": "markdown",
   "id": "8e362f45",
   "metadata": {},
   "source": [
    "#### Train - test split"
   ]
  },
  {
   "cell_type": "code",
   "execution_count": 71,
   "id": "3f13bc5f",
   "metadata": {},
   "outputs": [],
   "source": [
    "# Splitting the data into training and testing set\n",
    "X_train,X_test,y_train,y_test = train_test_split(X,y, train_size=0.7,random_state= 100,stratify = y)"
   ]
  },
  {
   "cell_type": "code",
   "execution_count": 72,
   "id": "0bd261ce",
   "metadata": {},
   "outputs": [],
   "source": [
    "# Checking shapes of train and test sets"
   ]
  },
  {
   "cell_type": "code",
   "execution_count": 73,
   "id": "7d34e58a",
   "metadata": {},
   "outputs": [
    {
     "data": {
      "text/plain": [
       "((1939286, 9), (831123, 9))"
      ]
     },
     "execution_count": 73,
     "metadata": {},
     "output_type": "execute_result"
    }
   ],
   "source": [
    "X_train.shape,X_test.shape"
   ]
  },
  {
   "cell_type": "code",
   "execution_count": 74,
   "id": "11a32a29",
   "metadata": {
    "scrolled": false
   },
   "outputs": [
    {
     "data": {
      "text/plain": [
       "((1939286,), (831123,))"
      ]
     },
     "execution_count": 74,
     "metadata": {},
     "output_type": "execute_result"
    }
   ],
   "source": [
    "y_train.shape,y_test.shape"
   ]
  },
  {
   "cell_type": "markdown",
   "id": "475b2324",
   "metadata": {},
   "source": [
    "\n"
   ]
  },
  {
   "cell_type": "markdown",
   "id": "40ad3883",
   "metadata": {},
   "source": [
    "#### <font color='green'>Handling Data Imbalance "
   ]
  },
  {
   "cell_type": "markdown",
   "id": "a57df561",
   "metadata": {},
   "source": [
    "- With the help of SMOTE we can balance the data"
   ]
  },
  {
   "cell_type": "code",
   "execution_count": 75,
   "id": "b19a499f",
   "metadata": {},
   "outputs": [
    {
     "name": "stdout",
     "output_type": "stream",
     "text": [
      "shape of X_train and y_train before applying smote: (1939286, 9) (1939286,)\n"
     ]
    }
   ],
   "source": [
    "# importing SMOTE\n",
    "from imblearn.over_sampling import SMOTE\n",
    "# instantiating smote\n",
    "smote = SMOTE(random_state=42)\n",
    "# shape of X_train and y_train before applying smote\n",
    "print('shape of X_train and y_train before applying smote:', X_train.shape,y_train.shape)\n",
    "#applying smote on data\n",
    "X_train,y_train = smote.fit_resample(X_train,y_train)\n"
   ]
  },
  {
   "cell_type": "markdown",
   "id": "bcce8af0",
   "metadata": {},
   "source": [
    "- Handling class imbalance by balancing class weights <br>\n",
    "- here specifying the class_weight parameter as 'balanced' will automatically balance the weights based on the sample sizes. (handling data imbalance)"
   ]
  },
  {
   "cell_type": "code",
   "execution_count": 76,
   "id": "b7cacb6f",
   "metadata": {},
   "outputs": [
    {
     "data": {
      "text/plain": [
       "((3867074, 9), (3867074,))"
      ]
     },
     "execution_count": 76,
     "metadata": {},
     "output_type": "execute_result"
    }
   ],
   "source": [
    "# checking shapes of X_train and y_train after applying smote\n",
    "X_train.shape,y_train.shape"
   ]
  },
  {
   "cell_type": "markdown",
   "id": "ab913ce8",
   "metadata": {},
   "source": [
    "\n"
   ]
  },
  {
   "cell_type": "markdown",
   "id": "9e95cbd8",
   "metadata": {},
   "source": [
    "### Building first logistic training model"
   ]
  },
  {
   "cell_type": "code",
   "execution_count": 77,
   "id": "8686105f",
   "metadata": {},
   "outputs": [],
   "source": [
    "# 1st logistic regression model\n",
    "lgm1 = sm.GLM(y_train,(sm.add_constant(X_train)),fm = sm.families.Binomial())\n",
    "lgm1 = lgm1.fit()"
   ]
  },
  {
   "cell_type": "code",
   "execution_count": 78,
   "id": "3bd0172c",
   "metadata": {
    "scrolled": true
   },
   "outputs": [
    {
     "data": {
      "text/html": [
       "<table class=\"simpletable\">\n",
       "<caption>Generalized Linear Model Regression Results</caption>\n",
       "<tr>\n",
       "  <th>Dep. Variable:</th>        <td>isFraud</td>     <th>  No. Observations:  </th>   <td>3867074</td>  \n",
       "</tr>\n",
       "<tr>\n",
       "  <th>Model:</th>                  <td>GLM</td>       <th>  Df Residuals:      </th>   <td>3867064</td>  \n",
       "</tr>\n",
       "<tr>\n",
       "  <th>Model Family:</th>        <td>Gaussian</td>     <th>  Df Model:          </th>   <td>     9</td>   \n",
       "</tr>\n",
       "<tr>\n",
       "  <th>Link Function:</th>       <td>identity</td>     <th>  Scale:             </th>  <td> 0.16279</td>  \n",
       "</tr>\n",
       "<tr>\n",
       "  <th>Method:</th>                <td>IRLS</td>       <th>  Log-Likelihood:    </th> <td>-1.9772e+06</td>\n",
       "</tr>\n",
       "<tr>\n",
       "  <th>Date:</th>            <td>Tue, 14 Feb 2023</td> <th>  Deviance:          </th> <td>6.2954e+05</td> \n",
       "</tr>\n",
       "<tr>\n",
       "  <th>Time:</th>                <td>09:44:52</td>     <th>  Pearson chi2:      </th>  <td>6.30e+05</td>  \n",
       "</tr>\n",
       "<tr>\n",
       "  <th>No. Iterations:</th>          <td>3</td>        <th>                     </th>      <td> </td>     \n",
       "</tr>\n",
       "<tr>\n",
       "  <th>Covariance Type:</th>     <td>nonrobust</td>    <th>                     </th>      <td> </td>     \n",
       "</tr>\n",
       "</table>\n",
       "<table class=\"simpletable\">\n",
       "<tr>\n",
       "         <td></td>           <th>coef</th>     <th>std err</th>      <th>z</th>      <th>P>|z|</th>  <th>[0.025</th>    <th>0.975]</th>  \n",
       "</tr>\n",
       "<tr>\n",
       "  <th>const</th>          <td>    0.5069</td> <td>    0.001</td> <td>  951.978</td> <td> 0.000</td> <td>    0.506</td> <td>    0.508</td>\n",
       "</tr>\n",
       "<tr>\n",
       "  <th>step</th>           <td>    0.4513</td> <td>    0.001</td> <td>  563.480</td> <td> 0.000</td> <td>    0.450</td> <td>    0.453</td>\n",
       "</tr>\n",
       "<tr>\n",
       "  <th>type</th>           <td>   -0.3293</td> <td>    0.000</td> <td> -688.461</td> <td> 0.000</td> <td>   -0.330</td> <td>   -0.328</td>\n",
       "</tr>\n",
       "<tr>\n",
       "  <th>amount</th>         <td>  -17.0132</td> <td>    0.039</td> <td> -434.534</td> <td> 0.000</td> <td>  -17.090</td> <td>  -16.936</td>\n",
       "</tr>\n",
       "<tr>\n",
       "  <th>oldbalanceOrg</th>  <td>  190.6385</td> <td>  351.997</td> <td>    0.542</td> <td> 0.588</td> <td> -499.263</td> <td>  880.540</td>\n",
       "</tr>\n",
       "<tr>\n",
       "  <th>newbalanceOrig</th> <td> -159.3904</td> <td>  292.922</td> <td>   -0.544</td> <td> 0.586</td> <td> -733.507</td> <td>  414.727</td>\n",
       "</tr>\n",
       "<tr>\n",
       "  <th>oldbalanceDest</th> <td>  -83.1445</td> <td>    1.696</td> <td>  -49.019</td> <td> 0.000</td> <td>  -86.469</td> <td>  -79.820</td>\n",
       "</tr>\n",
       "<tr>\n",
       "  <th>newbalanceDest</th> <td>   78.2998</td> <td>    1.697</td> <td>   46.142</td> <td> 0.000</td> <td>   74.974</td> <td>   81.626</td>\n",
       "</tr>\n",
       "<tr>\n",
       "  <th>Org_bal_diff</th>   <td>  -29.5637</td> <td>   59.075</td> <td>   -0.500</td> <td> 0.617</td> <td> -145.348</td> <td>   86.221</td>\n",
       "</tr>\n",
       "<tr>\n",
       "  <th>Dest_bal_diff</th>  <td>  -18.9265</td> <td>    0.504</td> <td>  -37.564</td> <td> 0.000</td> <td>  -19.914</td> <td>  -17.939</td>\n",
       "</tr>\n",
       "</table>"
      ],
      "text/plain": [
       "<class 'statsmodels.iolib.summary.Summary'>\n",
       "\"\"\"\n",
       "                 Generalized Linear Model Regression Results                  \n",
       "==============================================================================\n",
       "Dep. Variable:                isFraud   No. Observations:              3867074\n",
       "Model:                            GLM   Df Residuals:                  3867064\n",
       "Model Family:                Gaussian   Df Model:                            9\n",
       "Link Function:               identity   Scale:                         0.16279\n",
       "Method:                          IRLS   Log-Likelihood:            -1.9772e+06\n",
       "Date:                Tue, 14 Feb 2023   Deviance:                   6.2954e+05\n",
       "Time:                        09:44:52   Pearson chi2:                 6.30e+05\n",
       "No. Iterations:                     3                                         \n",
       "Covariance Type:            nonrobust                                         \n",
       "==================================================================================\n",
       "                     coef    std err          z      P>|z|      [0.025      0.975]\n",
       "----------------------------------------------------------------------------------\n",
       "const              0.5069      0.001    951.978      0.000       0.506       0.508\n",
       "step               0.4513      0.001    563.480      0.000       0.450       0.453\n",
       "type              -0.3293      0.000   -688.461      0.000      -0.330      -0.328\n",
       "amount           -17.0132      0.039   -434.534      0.000     -17.090     -16.936\n",
       "oldbalanceOrg    190.6385    351.997      0.542      0.588    -499.263     880.540\n",
       "newbalanceOrig  -159.3904    292.922     -0.544      0.586    -733.507     414.727\n",
       "oldbalanceDest   -83.1445      1.696    -49.019      0.000     -86.469     -79.820\n",
       "newbalanceDest    78.2998      1.697     46.142      0.000      74.974      81.626\n",
       "Org_bal_diff     -29.5637     59.075     -0.500      0.617    -145.348      86.221\n",
       "Dest_bal_diff    -18.9265      0.504    -37.564      0.000     -19.914     -17.939\n",
       "==================================================================================\n",
       "\"\"\""
      ]
     },
     "execution_count": 78,
     "metadata": {},
     "output_type": "execute_result"
    }
   ],
   "source": [
    "# Summary of first model\n",
    "lgm1.summary()"
   ]
  },
  {
   "cell_type": "markdown",
   "id": "59e82de1",
   "metadata": {},
   "source": [
    "- There are few variables whose p-values are high, implying that these variables are statistically insignificant(p>0.05). So we need to eliminate some of the variables in order to build a better model.\n",
    "\n",
    "- I will  manually eliminate features based on the p-values and VIFs)."
   ]
  },
  {
   "cell_type": "code",
   "execution_count": 79,
   "id": "5e6f1c0b",
   "metadata": {
    "scrolled": true
   },
   "outputs": [
    {
     "data": {
      "text/html": [
       "<div>\n",
       "<style scoped>\n",
       "    .dataframe tbody tr th:only-of-type {\n",
       "        vertical-align: middle;\n",
       "    }\n",
       "\n",
       "    .dataframe tbody tr th {\n",
       "        vertical-align: top;\n",
       "    }\n",
       "\n",
       "    .dataframe thead th {\n",
       "        text-align: right;\n",
       "    }\n",
       "</style>\n",
       "<table border=\"1\" class=\"dataframe\">\n",
       "  <thead>\n",
       "    <tr style=\"text-align: right;\">\n",
       "      <th></th>\n",
       "      <th>Features</th>\n",
       "      <th>VIF</th>\n",
       "    </tr>\n",
       "  </thead>\n",
       "  <tbody>\n",
       "    <tr>\n",
       "      <th>3</th>\n",
       "      <td>oldbalanceOrg</td>\n",
       "      <td>6.401651e+09</td>\n",
       "    </tr>\n",
       "    <tr>\n",
       "      <th>7</th>\n",
       "      <td>Org_bal_diff</td>\n",
       "      <td>3.413404e+09</td>\n",
       "    </tr>\n",
       "    <tr>\n",
       "      <th>4</th>\n",
       "      <td>newbalanceOrig</td>\n",
       "      <td>1.536911e+09</td>\n",
       "    </tr>\n",
       "    <tr>\n",
       "      <th>6</th>\n",
       "      <td>newbalanceDest</td>\n",
       "      <td>9.216190e+03</td>\n",
       "    </tr>\n",
       "    <tr>\n",
       "      <th>5</th>\n",
       "      <td>oldbalanceDest</td>\n",
       "      <td>6.303310e+03</td>\n",
       "    </tr>\n",
       "    <tr>\n",
       "      <th>8</th>\n",
       "      <td>Dest_bal_diff</td>\n",
       "      <td>1.556270e+03</td>\n",
       "    </tr>\n",
       "    <tr>\n",
       "      <th>2</th>\n",
       "      <td>amount</td>\n",
       "      <td>1.775000e+01</td>\n",
       "    </tr>\n",
       "    <tr>\n",
       "      <th>0</th>\n",
       "      <td>step</td>\n",
       "      <td>2.050000e+00</td>\n",
       "    </tr>\n",
       "    <tr>\n",
       "      <th>1</th>\n",
       "      <td>type</td>\n",
       "      <td>1.960000e+00</td>\n",
       "    </tr>\n",
       "  </tbody>\n",
       "</table>\n",
       "</div>"
      ],
      "text/plain": [
       "         Features           VIF\n",
       "3   oldbalanceOrg  6.401651e+09\n",
       "7    Org_bal_diff  3.413404e+09\n",
       "4  newbalanceOrig  1.536911e+09\n",
       "6  newbalanceDest  9.216190e+03\n",
       "5  oldbalanceDest  6.303310e+03\n",
       "8   Dest_bal_diff  1.556270e+03\n",
       "2          amount  1.775000e+01\n",
       "0            step  2.050000e+00\n",
       "1            type  1.960000e+00"
      ]
     },
     "execution_count": 79,
     "metadata": {},
     "output_type": "execute_result"
    }
   ],
   "source": [
    "# Checking for the VIF values of the feature variables.\n",
    "# Creating a dataframe that will contain the names of all the feature variables and their respective VIFs\n",
    "\n",
    "dff = pd.DataFrame()\n",
    "\n",
    "dff['Features'] = X_train.columns\n",
    "dff['VIF'] = [variance_inflation_factor(X_train.values,i) for i in range(X_train.shape[1])]\n",
    "dff['VIF'] = round(dff['VIF'],2)\n",
    "dff = dff.sort_values(by = 'VIF',ascending = False)\n",
    "dff"
   ]
  },
  {
   "cell_type": "markdown",
   "id": "e70c157c",
   "metadata": {},
   "source": [
    " - Vif values are very high for few features\n",
    " - So there are issues of multicollinearity\n",
    " - I will drop most insignificant feature in the model now, and again have a look at p values and vif"
   ]
  },
  {
   "cell_type": "code",
   "execution_count": 80,
   "id": "24a40cbc",
   "metadata": {},
   "outputs": [],
   "source": [
    "# dropping the featue with highest p value in the model\n",
    "X_train.drop('Org_bal_diff',axis=1,inplace=True)"
   ]
  },
  {
   "cell_type": "code",
   "execution_count": 81,
   "id": "6b83584f",
   "metadata": {},
   "outputs": [],
   "source": [
    "# second logistic regression model\n",
    "lgm2 = sm.GLM(y_train,(sm.add_constant(X_train)),fm = sm.families.Binomial(), class_weight='balanced')\n",
    "lgm2 = lgm2.fit()"
   ]
  },
  {
   "cell_type": "code",
   "execution_count": 82,
   "id": "43e55877",
   "metadata": {
    "scrolled": true
   },
   "outputs": [
    {
     "data": {
      "text/html": [
       "<table class=\"simpletable\">\n",
       "<caption>Generalized Linear Model Regression Results</caption>\n",
       "<tr>\n",
       "  <th>Dep. Variable:</th>        <td>isFraud</td>     <th>  No. Observations:  </th>   <td>3867074</td>  \n",
       "</tr>\n",
       "<tr>\n",
       "  <th>Model:</th>                  <td>GLM</td>       <th>  Df Residuals:      </th>   <td>3867065</td>  \n",
       "</tr>\n",
       "<tr>\n",
       "  <th>Model Family:</th>        <td>Gaussian</td>     <th>  Df Model:          </th>   <td>     8</td>   \n",
       "</tr>\n",
       "<tr>\n",
       "  <th>Link Function:</th>       <td>identity</td>     <th>  Scale:             </th>  <td> 0.16279</td>  \n",
       "</tr>\n",
       "<tr>\n",
       "  <th>Method:</th>                <td>IRLS</td>       <th>  Log-Likelihood:    </th> <td>-1.9772e+06</td>\n",
       "</tr>\n",
       "<tr>\n",
       "  <th>Date:</th>            <td>Tue, 14 Feb 2023</td> <th>  Deviance:          </th> <td>6.2954e+05</td> \n",
       "</tr>\n",
       "<tr>\n",
       "  <th>Time:</th>                <td>09:45:26</td>     <th>  Pearson chi2:      </th>  <td>6.30e+05</td>  \n",
       "</tr>\n",
       "<tr>\n",
       "  <th>No. Iterations:</th>          <td>3</td>        <th>                     </th>      <td> </td>     \n",
       "</tr>\n",
       "<tr>\n",
       "  <th>Covariance Type:</th>     <td>nonrobust</td>    <th>                     </th>      <td> </td>     \n",
       "</tr>\n",
       "</table>\n",
       "<table class=\"simpletable\">\n",
       "<tr>\n",
       "         <td></td>           <th>coef</th>     <th>std err</th>      <th>z</th>      <th>P>|z|</th>  <th>[0.025</th>    <th>0.975]</th>  \n",
       "</tr>\n",
       "<tr>\n",
       "  <th>const</th>          <td>    0.5069</td> <td>    0.001</td> <td>  951.978</td> <td> 0.000</td> <td>    0.506</td> <td>    0.508</td>\n",
       "</tr>\n",
       "<tr>\n",
       "  <th>step</th>           <td>    0.4513</td> <td>    0.001</td> <td>  563.481</td> <td> 0.000</td> <td>    0.450</td> <td>    0.453</td>\n",
       "</tr>\n",
       "<tr>\n",
       "  <th>type</th>           <td>   -0.3293</td> <td>    0.000</td> <td> -688.462</td> <td> 0.000</td> <td>   -0.330</td> <td>   -0.328</td>\n",
       "</tr>\n",
       "<tr>\n",
       "  <th>amount</th>         <td>  -17.0132</td> <td>    0.039</td> <td> -434.534</td> <td> 0.000</td> <td>  -17.090</td> <td>  -16.937</td>\n",
       "</tr>\n",
       "<tr>\n",
       "  <th>oldbalanceOrg</th>  <td>   14.4833</td> <td>    0.022</td> <td>  660.545</td> <td> 0.000</td> <td>   14.440</td> <td>   14.526</td>\n",
       "</tr>\n",
       "<tr>\n",
       "  <th>newbalanceOrig</th> <td>  -12.7988</td> <td>    0.019</td> <td> -657.955</td> <td> 0.000</td> <td>  -12.837</td> <td>  -12.761</td>\n",
       "</tr>\n",
       "<tr>\n",
       "  <th>oldbalanceDest</th> <td>  -83.1452</td> <td>    1.696</td> <td>  -49.019</td> <td> 0.000</td> <td>  -86.470</td> <td>  -79.821</td>\n",
       "</tr>\n",
       "<tr>\n",
       "  <th>newbalanceDest</th> <td>   78.3006</td> <td>    1.697</td> <td>   46.143</td> <td> 0.000</td> <td>   74.975</td> <td>   81.626</td>\n",
       "</tr>\n",
       "<tr>\n",
       "  <th>Dest_bal_diff</th>  <td>  -18.9267</td> <td>    0.504</td> <td>  -37.564</td> <td> 0.000</td> <td>  -19.914</td> <td>  -17.939</td>\n",
       "</tr>\n",
       "</table>"
      ],
      "text/plain": [
       "<class 'statsmodels.iolib.summary.Summary'>\n",
       "\"\"\"\n",
       "                 Generalized Linear Model Regression Results                  \n",
       "==============================================================================\n",
       "Dep. Variable:                isFraud   No. Observations:              3867074\n",
       "Model:                            GLM   Df Residuals:                  3867065\n",
       "Model Family:                Gaussian   Df Model:                            8\n",
       "Link Function:               identity   Scale:                         0.16279\n",
       "Method:                          IRLS   Log-Likelihood:            -1.9772e+06\n",
       "Date:                Tue, 14 Feb 2023   Deviance:                   6.2954e+05\n",
       "Time:                        09:45:26   Pearson chi2:                 6.30e+05\n",
       "No. Iterations:                     3                                         \n",
       "Covariance Type:            nonrobust                                         \n",
       "==================================================================================\n",
       "                     coef    std err          z      P>|z|      [0.025      0.975]\n",
       "----------------------------------------------------------------------------------\n",
       "const              0.5069      0.001    951.978      0.000       0.506       0.508\n",
       "step               0.4513      0.001    563.481      0.000       0.450       0.453\n",
       "type              -0.3293      0.000   -688.462      0.000      -0.330      -0.328\n",
       "amount           -17.0132      0.039   -434.534      0.000     -17.090     -16.937\n",
       "oldbalanceOrg     14.4833      0.022    660.545      0.000      14.440      14.526\n",
       "newbalanceOrig   -12.7988      0.019   -657.955      0.000     -12.837     -12.761\n",
       "oldbalanceDest   -83.1452      1.696    -49.019      0.000     -86.470     -79.821\n",
       "newbalanceDest    78.3006      1.697     46.143      0.000      74.975      81.626\n",
       "Dest_bal_diff    -18.9267      0.504    -37.564      0.000     -19.914     -17.939\n",
       "==================================================================================\n",
       "\"\"\""
      ]
     },
     "execution_count": 82,
     "metadata": {},
     "output_type": "execute_result"
    }
   ],
   "source": [
    "lgm2.summary()"
   ]
  },
  {
   "cell_type": "markdown",
   "id": "746a1c56",
   "metadata": {},
   "source": [
    "- All the variables in this model are significant as their p values are below 0.05"
   ]
  },
  {
   "cell_type": "code",
   "execution_count": 83,
   "id": "2ec530f6",
   "metadata": {
    "scrolled": true
   },
   "outputs": [
    {
     "data": {
      "text/html": [
       "<div>\n",
       "<style scoped>\n",
       "    .dataframe tbody tr th:only-of-type {\n",
       "        vertical-align: middle;\n",
       "    }\n",
       "\n",
       "    .dataframe tbody tr th {\n",
       "        vertical-align: top;\n",
       "    }\n",
       "\n",
       "    .dataframe thead th {\n",
       "        text-align: right;\n",
       "    }\n",
       "</style>\n",
       "<table border=\"1\" class=\"dataframe\">\n",
       "  <thead>\n",
       "    <tr style=\"text-align: right;\">\n",
       "      <th></th>\n",
       "      <th>Features</th>\n",
       "      <th>VIF</th>\n",
       "    </tr>\n",
       "  </thead>\n",
       "  <tbody>\n",
       "    <tr>\n",
       "      <th>6</th>\n",
       "      <td>newbalanceDest</td>\n",
       "      <td>9216.18</td>\n",
       "    </tr>\n",
       "    <tr>\n",
       "      <th>5</th>\n",
       "      <td>oldbalanceDest</td>\n",
       "      <td>6303.31</td>\n",
       "    </tr>\n",
       "    <tr>\n",
       "      <th>7</th>\n",
       "      <td>Dest_bal_diff</td>\n",
       "      <td>1556.27</td>\n",
       "    </tr>\n",
       "    <tr>\n",
       "      <th>3</th>\n",
       "      <td>oldbalanceOrg</td>\n",
       "      <td>23.77</td>\n",
       "    </tr>\n",
       "    <tr>\n",
       "      <th>2</th>\n",
       "      <td>amount</td>\n",
       "      <td>17.75</td>\n",
       "    </tr>\n",
       "    <tr>\n",
       "      <th>4</th>\n",
       "      <td>newbalanceOrig</td>\n",
       "      <td>6.62</td>\n",
       "    </tr>\n",
       "    <tr>\n",
       "      <th>0</th>\n",
       "      <td>step</td>\n",
       "      <td>2.05</td>\n",
       "    </tr>\n",
       "    <tr>\n",
       "      <th>1</th>\n",
       "      <td>type</td>\n",
       "      <td>1.96</td>\n",
       "    </tr>\n",
       "  </tbody>\n",
       "</table>\n",
       "</div>"
      ],
      "text/plain": [
       "         Features      VIF\n",
       "6  newbalanceDest  9216.18\n",
       "5  oldbalanceDest  6303.31\n",
       "7   Dest_bal_diff  1556.27\n",
       "3   oldbalanceOrg    23.77\n",
       "2          amount    17.75\n",
       "4  newbalanceOrig     6.62\n",
       "0            step     2.05\n",
       "1            type     1.96"
      ]
     },
     "execution_count": 83,
     "metadata": {},
     "output_type": "execute_result"
    }
   ],
   "source": [
    "# Checking for the VIF values of the feature variables.\n",
    "# Creating a dataframe that will contain the names of all the feature variables and their respective VIFs\n",
    "\n",
    "dff = pd.DataFrame()\n",
    "\n",
    "dff['Features'] = X_train.columns\n",
    "dff['VIF'] = [variance_inflation_factor(X_train.values,i) for i in range(X_train.shape[1])]\n",
    "dff['VIF'] = round(dff['VIF'],2)\n",
    "dff = dff.sort_values(by = 'VIF',ascending = False)\n",
    "dff"
   ]
  },
  {
   "cell_type": "markdown",
   "id": "3ce06331",
   "metadata": {},
   "source": [
    "- VIF values are high for few variables"
   ]
  },
  {
   "cell_type": "code",
   "execution_count": 84,
   "id": "8649b773",
   "metadata": {},
   "outputs": [],
   "source": [
    "# dropping the  feature with highest vif \n",
    "X_train.drop('newbalanceDest',axis=1,inplace=True)"
   ]
  },
  {
   "cell_type": "code",
   "execution_count": 85,
   "id": "d3bdc47c",
   "metadata": {},
   "outputs": [],
   "source": [
    "#3rd logistic regression model\n",
    "lgm3 = sm.GLM(y_train,(sm.add_constant(X_train)),fm = sm.families.Binomial(), class_weight='balanced')\n",
    "lgm3 = lgm3.fit()"
   ]
  },
  {
   "cell_type": "code",
   "execution_count": 86,
   "id": "209df835",
   "metadata": {
    "scrolled": true
   },
   "outputs": [
    {
     "data": {
      "text/html": [
       "<table class=\"simpletable\">\n",
       "<caption>Generalized Linear Model Regression Results</caption>\n",
       "<tr>\n",
       "  <th>Dep. Variable:</th>        <td>isFraud</td>     <th>  No. Observations:  </th>   <td>3867074</td>  \n",
       "</tr>\n",
       "<tr>\n",
       "  <th>Model:</th>                  <td>GLM</td>       <th>  Df Residuals:      </th>   <td>3867066</td>  \n",
       "</tr>\n",
       "<tr>\n",
       "  <th>Model Family:</th>        <td>Gaussian</td>     <th>  Df Model:          </th>   <td>     7</td>   \n",
       "</tr>\n",
       "<tr>\n",
       "  <th>Link Function:</th>       <td>identity</td>     <th>  Scale:             </th>  <td> 0.16288</td>  \n",
       "</tr>\n",
       "<tr>\n",
       "  <th>Method:</th>                <td>IRLS</td>       <th>  Log-Likelihood:    </th> <td>-1.9783e+06</td>\n",
       "</tr>\n",
       "<tr>\n",
       "  <th>Date:</th>            <td>Tue, 14 Feb 2023</td> <th>  Deviance:          </th> <td>6.2988e+05</td> \n",
       "</tr>\n",
       "<tr>\n",
       "  <th>Time:</th>                <td>09:45:52</td>     <th>  Pearson chi2:      </th>  <td>6.30e+05</td>  \n",
       "</tr>\n",
       "<tr>\n",
       "  <th>No. Iterations:</th>          <td>3</td>        <th>                     </th>      <td> </td>     \n",
       "</tr>\n",
       "<tr>\n",
       "  <th>Covariance Type:</th>     <td>nonrobust</td>    <th>                     </th>      <td> </td>     \n",
       "</tr>\n",
       "</table>\n",
       "<table class=\"simpletable\">\n",
       "<tr>\n",
       "         <td></td>           <th>coef</th>     <th>std err</th>      <th>z</th>      <th>P>|z|</th>  <th>[0.025</th>    <th>0.975]</th>  \n",
       "</tr>\n",
       "<tr>\n",
       "  <th>const</th>          <td>    0.5056</td> <td>    0.001</td> <td>  950.598</td> <td> 0.000</td> <td>    0.505</td> <td>    0.507</td>\n",
       "</tr>\n",
       "<tr>\n",
       "  <th>step</th>           <td>    0.4535</td> <td>    0.001</td> <td>  566.883</td> <td> 0.000</td> <td>    0.452</td> <td>    0.455</td>\n",
       "</tr>\n",
       "<tr>\n",
       "  <th>type</th>           <td>   -0.3296</td> <td>    0.000</td> <td> -688.943</td> <td> 0.000</td> <td>   -0.331</td> <td>   -0.329</td>\n",
       "</tr>\n",
       "<tr>\n",
       "  <th>amount</th>         <td>  -16.9963</td> <td>    0.039</td> <td> -434.000</td> <td> 0.000</td> <td>  -17.073</td> <td>  -16.920</td>\n",
       "</tr>\n",
       "<tr>\n",
       "  <th>oldbalanceOrg</th>  <td>   14.4787</td> <td>    0.022</td> <td>  660.161</td> <td> 0.000</td> <td>   14.436</td> <td>   14.522</td>\n",
       "</tr>\n",
       "<tr>\n",
       "  <th>newbalanceOrig</th> <td>  -12.7984</td> <td>    0.019</td> <td> -657.752</td> <td> 0.000</td> <td>  -12.836</td> <td>  -12.760</td>\n",
       "</tr>\n",
       "<tr>\n",
       "  <th>oldbalanceDest</th> <td>   -4.8866</td> <td>    0.024</td> <td> -205.063</td> <td> 0.000</td> <td>   -4.933</td> <td>   -4.840</td>\n",
       "</tr>\n",
       "<tr>\n",
       "  <th>Dest_bal_diff</th>  <td>    4.2988</td> <td>    0.023</td> <td>  190.433</td> <td> 0.000</td> <td>    4.255</td> <td>    4.343</td>\n",
       "</tr>\n",
       "</table>"
      ],
      "text/plain": [
       "<class 'statsmodels.iolib.summary.Summary'>\n",
       "\"\"\"\n",
       "                 Generalized Linear Model Regression Results                  \n",
       "==============================================================================\n",
       "Dep. Variable:                isFraud   No. Observations:              3867074\n",
       "Model:                            GLM   Df Residuals:                  3867066\n",
       "Model Family:                Gaussian   Df Model:                            7\n",
       "Link Function:               identity   Scale:                         0.16288\n",
       "Method:                          IRLS   Log-Likelihood:            -1.9783e+06\n",
       "Date:                Tue, 14 Feb 2023   Deviance:                   6.2988e+05\n",
       "Time:                        09:45:52   Pearson chi2:                 6.30e+05\n",
       "No. Iterations:                     3                                         \n",
       "Covariance Type:            nonrobust                                         \n",
       "==================================================================================\n",
       "                     coef    std err          z      P>|z|      [0.025      0.975]\n",
       "----------------------------------------------------------------------------------\n",
       "const              0.5056      0.001    950.598      0.000       0.505       0.507\n",
       "step               0.4535      0.001    566.883      0.000       0.452       0.455\n",
       "type              -0.3296      0.000   -688.943      0.000      -0.331      -0.329\n",
       "amount           -16.9963      0.039   -434.000      0.000     -17.073     -16.920\n",
       "oldbalanceOrg     14.4787      0.022    660.161      0.000      14.436      14.522\n",
       "newbalanceOrig   -12.7984      0.019   -657.752      0.000     -12.836     -12.760\n",
       "oldbalanceDest    -4.8866      0.024   -205.063      0.000      -4.933      -4.840\n",
       "Dest_bal_diff      4.2988      0.023    190.433      0.000       4.255       4.343\n",
       "==================================================================================\n",
       "\"\"\""
      ]
     },
     "execution_count": 86,
     "metadata": {},
     "output_type": "execute_result"
    }
   ],
   "source": [
    "lgm3.summary()"
   ]
  },
  {
   "cell_type": "markdown",
   "id": "3b46820c",
   "metadata": {},
   "source": [
    "- All the features in this model are significant"
   ]
  },
  {
   "cell_type": "code",
   "execution_count": 87,
   "id": "bdac5038",
   "metadata": {
    "scrolled": false
   },
   "outputs": [
    {
     "data": {
      "text/html": [
       "<div>\n",
       "<style scoped>\n",
       "    .dataframe tbody tr th:only-of-type {\n",
       "        vertical-align: middle;\n",
       "    }\n",
       "\n",
       "    .dataframe tbody tr th {\n",
       "        vertical-align: top;\n",
       "    }\n",
       "\n",
       "    .dataframe thead th {\n",
       "        text-align: right;\n",
       "    }\n",
       "</style>\n",
       "<table border=\"1\" class=\"dataframe\">\n",
       "  <thead>\n",
       "    <tr style=\"text-align: right;\">\n",
       "      <th></th>\n",
       "      <th>Features</th>\n",
       "      <th>VIF</th>\n",
       "    </tr>\n",
       "  </thead>\n",
       "  <tbody>\n",
       "    <tr>\n",
       "      <th>3</th>\n",
       "      <td>oldbalanceOrg</td>\n",
       "      <td>23.77</td>\n",
       "    </tr>\n",
       "    <tr>\n",
       "      <th>2</th>\n",
       "      <td>amount</td>\n",
       "      <td>17.75</td>\n",
       "    </tr>\n",
       "    <tr>\n",
       "      <th>4</th>\n",
       "      <td>newbalanceOrig</td>\n",
       "      <td>6.62</td>\n",
       "    </tr>\n",
       "    <tr>\n",
       "      <th>6</th>\n",
       "      <td>Dest_bal_diff</td>\n",
       "      <td>2.92</td>\n",
       "    </tr>\n",
       "    <tr>\n",
       "      <th>0</th>\n",
       "      <td>step</td>\n",
       "      <td>2.05</td>\n",
       "    </tr>\n",
       "    <tr>\n",
       "      <th>1</th>\n",
       "      <td>type</td>\n",
       "      <td>1.95</td>\n",
       "    </tr>\n",
       "    <tr>\n",
       "      <th>5</th>\n",
       "      <td>oldbalanceDest</td>\n",
       "      <td>1.24</td>\n",
       "    </tr>\n",
       "  </tbody>\n",
       "</table>\n",
       "</div>"
      ],
      "text/plain": [
       "         Features    VIF\n",
       "3   oldbalanceOrg  23.77\n",
       "2          amount  17.75\n",
       "4  newbalanceOrig   6.62\n",
       "6   Dest_bal_diff   2.92\n",
       "0            step   2.05\n",
       "1            type   1.95\n",
       "5  oldbalanceDest   1.24"
      ]
     },
     "execution_count": 87,
     "metadata": {},
     "output_type": "execute_result"
    }
   ],
   "source": [
    "# Checking for the VIF values of the feature variables.\n",
    "# Creating a dataframe that will contain the names of all the feature variables and their respective VIFs\n",
    "\n",
    "dff = pd.DataFrame()\n",
    "\n",
    "dff['Features'] = X_train.columns\n",
    "dff['VIF'] = [variance_inflation_factor(X_train.values,i) for i in range(X_train.shape[1])]\n",
    "dff['VIF'] = round(dff['VIF'],2)\n",
    "dff = dff.sort_values(by = 'VIF',ascending = False)\n",
    "dff"
   ]
  },
  {
   "cell_type": "markdown",
   "id": "33451c80",
   "metadata": {},
   "source": [
    "- VIF values are high for few variables, So I am removing 'oldbalanceOrg' which has the highest VIF value in  X_train."
   ]
  },
  {
   "cell_type": "code",
   "execution_count": 88,
   "id": "124eb3e5",
   "metadata": {
    "scrolled": true
   },
   "outputs": [],
   "source": [
    "X_train.drop('oldbalanceOrg',1,inplace=True)"
   ]
  },
  {
   "cell_type": "code",
   "execution_count": 89,
   "id": "cb4708fc",
   "metadata": {},
   "outputs": [],
   "source": [
    "# 4th logistic regression model\n",
    "lgm4 = sm.GLM(y_train,(sm.add_constant(X_train)),fm = sm.families.Binomial(), class_weight='balanced')\n",
    "lgm4 = lgm4.fit()"
   ]
  },
  {
   "cell_type": "code",
   "execution_count": 90,
   "id": "de8e168d",
   "metadata": {},
   "outputs": [
    {
     "data": {
      "text/html": [
       "<table class=\"simpletable\">\n",
       "<caption>Generalized Linear Model Regression Results</caption>\n",
       "<tr>\n",
       "  <th>Dep. Variable:</th>        <td>isFraud</td>     <th>  No. Observations:  </th>   <td>3867074</td>  \n",
       "</tr>\n",
       "<tr>\n",
       "  <th>Model:</th>                  <td>GLM</td>       <th>  Df Residuals:      </th>   <td>3867067</td>  \n",
       "</tr>\n",
       "<tr>\n",
       "  <th>Model Family:</th>        <td>Gaussian</td>     <th>  Df Model:          </th>   <td>     6</td>   \n",
       "</tr>\n",
       "<tr>\n",
       "  <th>Link Function:</th>       <td>identity</td>     <th>  Scale:             </th>  <td> 0.18124</td>  \n",
       "</tr>\n",
       "<tr>\n",
       "  <th>Method:</th>                <td>IRLS</td>       <th>  Log-Likelihood:    </th> <td>-2.1848e+06</td>\n",
       "</tr>\n",
       "<tr>\n",
       "  <th>Date:</th>            <td>Tue, 14 Feb 2023</td> <th>  Deviance:          </th> <td>7.0087e+05</td> \n",
       "</tr>\n",
       "<tr>\n",
       "  <th>Time:</th>                <td>09:46:24</td>     <th>  Pearson chi2:      </th>  <td>7.01e+05</td>  \n",
       "</tr>\n",
       "<tr>\n",
       "  <th>No. Iterations:</th>          <td>3</td>        <th>                     </th>      <td> </td>     \n",
       "</tr>\n",
       "<tr>\n",
       "  <th>Covariance Type:</th>     <td>nonrobust</td>    <th>                     </th>      <td> </td>     \n",
       "</tr>\n",
       "</table>\n",
       "<table class=\"simpletable\">\n",
       "<tr>\n",
       "         <td></td>           <th>coef</th>     <th>std err</th>      <th>z</th>      <th>P>|z|</th>  <th>[0.025</th>    <th>0.975]</th>  \n",
       "</tr>\n",
       "<tr>\n",
       "  <th>const</th>          <td>    0.4329</td> <td>    0.001</td> <td>  788.583</td> <td> 0.000</td> <td>    0.432</td> <td>    0.434</td>\n",
       "</tr>\n",
       "<tr>\n",
       "  <th>step</th>           <td>    0.5008</td> <td>    0.001</td> <td>  595.942</td> <td> 0.000</td> <td>    0.499</td> <td>    0.502</td>\n",
       "</tr>\n",
       "<tr>\n",
       "  <th>type</th>           <td>   -0.2550</td> <td>    0.000</td> <td> -520.072</td> <td> 0.000</td> <td>   -0.256</td> <td>   -0.254</td>\n",
       "</tr>\n",
       "<tr>\n",
       "  <th>amount</th>         <td>    6.5517</td> <td>    0.017</td> <td>  384.228</td> <td> 0.000</td> <td>    6.518</td> <td>    6.585</td>\n",
       "</tr>\n",
       "<tr>\n",
       "  <th>newbalanceOrig</th> <td>   -1.2311</td> <td>    0.009</td> <td> -137.936</td> <td> 0.000</td> <td>   -1.249</td> <td>   -1.214</td>\n",
       "</tr>\n",
       "<tr>\n",
       "  <th>oldbalanceDest</th> <td>   -9.5598</td> <td>    0.024</td> <td> -398.285</td> <td> 0.000</td> <td>   -9.607</td> <td>   -9.513</td>\n",
       "</tr>\n",
       "<tr>\n",
       "  <th>Dest_bal_diff</th>  <td>   -0.8219</td> <td>    0.022</td> <td>  -36.755</td> <td> 0.000</td> <td>   -0.866</td> <td>   -0.778</td>\n",
       "</tr>\n",
       "</table>"
      ],
      "text/plain": [
       "<class 'statsmodels.iolib.summary.Summary'>\n",
       "\"\"\"\n",
       "                 Generalized Linear Model Regression Results                  \n",
       "==============================================================================\n",
       "Dep. Variable:                isFraud   No. Observations:              3867074\n",
       "Model:                            GLM   Df Residuals:                  3867067\n",
       "Model Family:                Gaussian   Df Model:                            6\n",
       "Link Function:               identity   Scale:                         0.18124\n",
       "Method:                          IRLS   Log-Likelihood:            -2.1848e+06\n",
       "Date:                Tue, 14 Feb 2023   Deviance:                   7.0087e+05\n",
       "Time:                        09:46:24   Pearson chi2:                 7.01e+05\n",
       "No. Iterations:                     3                                         \n",
       "Covariance Type:            nonrobust                                         \n",
       "==================================================================================\n",
       "                     coef    std err          z      P>|z|      [0.025      0.975]\n",
       "----------------------------------------------------------------------------------\n",
       "const              0.4329      0.001    788.583      0.000       0.432       0.434\n",
       "step               0.5008      0.001    595.942      0.000       0.499       0.502\n",
       "type              -0.2550      0.000   -520.072      0.000      -0.256      -0.254\n",
       "amount             6.5517      0.017    384.228      0.000       6.518       6.585\n",
       "newbalanceOrig    -1.2311      0.009   -137.936      0.000      -1.249      -1.214\n",
       "oldbalanceDest    -9.5598      0.024   -398.285      0.000      -9.607      -9.513\n",
       "Dest_bal_diff     -0.8219      0.022    -36.755      0.000      -0.866      -0.778\n",
       "==================================================================================\n",
       "\"\"\""
      ]
     },
     "execution_count": 90,
     "metadata": {},
     "output_type": "execute_result"
    }
   ],
   "source": [
    "lgm4.summary()"
   ]
  },
  {
   "cell_type": "code",
   "execution_count": 91,
   "id": "6612ef68",
   "metadata": {
    "scrolled": false
   },
   "outputs": [
    {
     "data": {
      "text/html": [
       "<div>\n",
       "<style scoped>\n",
       "    .dataframe tbody tr th:only-of-type {\n",
       "        vertical-align: middle;\n",
       "    }\n",
       "\n",
       "    .dataframe tbody tr th {\n",
       "        vertical-align: top;\n",
       "    }\n",
       "\n",
       "    .dataframe thead th {\n",
       "        text-align: right;\n",
       "    }\n",
       "</style>\n",
       "<table border=\"1\" class=\"dataframe\">\n",
       "  <thead>\n",
       "    <tr style=\"text-align: right;\">\n",
       "      <th></th>\n",
       "      <th>Features</th>\n",
       "      <th>VIF</th>\n",
       "    </tr>\n",
       "  </thead>\n",
       "  <tbody>\n",
       "    <tr>\n",
       "      <th>2</th>\n",
       "      <td>amount</td>\n",
       "      <td>3.08</td>\n",
       "    </tr>\n",
       "    <tr>\n",
       "      <th>5</th>\n",
       "      <td>Dest_bal_diff</td>\n",
       "      <td>2.64</td>\n",
       "    </tr>\n",
       "    <tr>\n",
       "      <th>0</th>\n",
       "      <td>step</td>\n",
       "      <td>2.04</td>\n",
       "    </tr>\n",
       "    <tr>\n",
       "      <th>1</th>\n",
       "      <td>type</td>\n",
       "      <td>1.92</td>\n",
       "    </tr>\n",
       "    <tr>\n",
       "      <th>3</th>\n",
       "      <td>newbalanceOrig</td>\n",
       "      <td>1.27</td>\n",
       "    </tr>\n",
       "    <tr>\n",
       "      <th>4</th>\n",
       "      <td>oldbalanceDest</td>\n",
       "      <td>1.12</td>\n",
       "    </tr>\n",
       "  </tbody>\n",
       "</table>\n",
       "</div>"
      ],
      "text/plain": [
       "         Features   VIF\n",
       "2          amount  3.08\n",
       "5   Dest_bal_diff  2.64\n",
       "0            step  2.04\n",
       "1            type  1.92\n",
       "3  newbalanceOrig  1.27\n",
       "4  oldbalanceDest  1.12"
      ]
     },
     "execution_count": 91,
     "metadata": {},
     "output_type": "execute_result"
    }
   ],
   "source": [
    "# Checking for the VIF values of the feature variables.\n",
    "# Creating a dataframe that will contain the names of all the feature variables and their respective VIFs\n",
    "\n",
    "dff = pd.DataFrame()\n",
    "\n",
    "dff['Features'] = X_train.columns\n",
    "dff['VIF'] = [variance_inflation_factor(X_train.values,i) for i in range(X_train.shape[1])]\n",
    "dff['VIF'] = round(dff['VIF'],2)\n",
    "dff = dff.sort_values(by = 'VIF',ascending = False)\n",
    "dff"
   ]
  },
  {
   "cell_type": "markdown",
   "id": "2c055590",
   "metadata": {},
   "source": [
    "- All the variables in this model are significant \n",
    "- VIF values of features are  below 4,so there is no issue of multicollinearity"
   ]
  },
  {
   "cell_type": "markdown",
   "id": "9ae6c012",
   "metadata": {},
   "source": [
    "- The transaction amount has the highest coeifficient in the model, implying that if the transaction amount is very high there is a chance that transaction could be of fraudulent"
   ]
  },
  {
   "cell_type": "markdown",
   "id": "1bb64e98",
   "metadata": {},
   "source": [
    "- The logistic regression curve gives us the probability of a transaction being fraudulent. We can get these probabilities by simply using the 'predict' function "
   ]
  },
  {
   "cell_type": "code",
   "execution_count": 92,
   "id": "fa869541",
   "metadata": {},
   "outputs": [],
   "source": [
    "X_train_sm = sm.add_constant(X_train)"
   ]
  },
  {
   "cell_type": "code",
   "execution_count": 93,
   "id": "c81be91b",
   "metadata": {},
   "outputs": [
    {
     "data": {
      "text/plain": [
       "0    0.341062\n",
       "1    0.297322\n",
       "2    0.553637\n",
       "3    0.417857\n",
       "4    0.674989\n",
       "5    0.462012\n",
       "6    0.187420\n",
       "7    0.365075\n",
       "8    0.231980\n",
       "9    0.278003\n",
       "dtype: float64"
      ]
     },
     "execution_count": 93,
     "metadata": {},
     "output_type": "execute_result"
    }
   ],
   "source": [
    "# Getting the predicted values on the train set\n",
    "y_train_pred = lgm4.predict(X_train_sm)\n",
    "y_train_pred[:10]"
   ]
  },
  {
   "cell_type": "code",
   "execution_count": 94,
   "id": "8acac16a",
   "metadata": {},
   "outputs": [
    {
     "data": {
      "text/plain": [
       "array([0.34106184, 0.29732151, 0.55363743, 0.41785681, 0.67498912,\n",
       "       0.46201243, 0.18741997, 0.36507532, 0.23197994, 0.27800341])"
      ]
     },
     "execution_count": 94,
     "metadata": {},
     "output_type": "execute_result"
    }
   ],
   "source": [
    "y_train_pred = y_train_pred.values.reshape(-1)\n",
    "y_train_pred[:10]"
   ]
  },
  {
   "cell_type": "code",
   "execution_count": 95,
   "id": "b1f383e3",
   "metadata": {
    "scrolled": true
   },
   "outputs": [
    {
     "data": {
      "text/html": [
       "<div>\n",
       "<style scoped>\n",
       "    .dataframe tbody tr th:only-of-type {\n",
       "        vertical-align: middle;\n",
       "    }\n",
       "\n",
       "    .dataframe tbody tr th {\n",
       "        vertical-align: top;\n",
       "    }\n",
       "\n",
       "    .dataframe thead th {\n",
       "        text-align: right;\n",
       "    }\n",
       "</style>\n",
       "<table border=\"1\" class=\"dataframe\">\n",
       "  <thead>\n",
       "    <tr style=\"text-align: right;\">\n",
       "      <th></th>\n",
       "      <th>isFraud</th>\n",
       "      <th>prob_fraud</th>\n",
       "    </tr>\n",
       "  </thead>\n",
       "  <tbody>\n",
       "    <tr>\n",
       "      <th>0</th>\n",
       "      <td>0</td>\n",
       "      <td>0.341062</td>\n",
       "    </tr>\n",
       "    <tr>\n",
       "      <th>1</th>\n",
       "      <td>0</td>\n",
       "      <td>0.297322</td>\n",
       "    </tr>\n",
       "    <tr>\n",
       "      <th>2</th>\n",
       "      <td>0</td>\n",
       "      <td>0.553637</td>\n",
       "    </tr>\n",
       "    <tr>\n",
       "      <th>3</th>\n",
       "      <td>0</td>\n",
       "      <td>0.417857</td>\n",
       "    </tr>\n",
       "    <tr>\n",
       "      <th>4</th>\n",
       "      <td>0</td>\n",
       "      <td>0.674989</td>\n",
       "    </tr>\n",
       "  </tbody>\n",
       "</table>\n",
       "</div>"
      ],
      "text/plain": [
       "   isFraud  prob_fraud\n",
       "0        0    0.341062\n",
       "1        0    0.297322\n",
       "2        0    0.553637\n",
       "3        0    0.417857\n",
       "4        0    0.674989"
      ]
     },
     "execution_count": 95,
     "metadata": {},
     "output_type": "execute_result"
    }
   ],
   "source": [
    "##### Creating a dataframe with the actual isFraud flag and the predicted probabilities\n",
    "y_train_pred_final = pd.DataFrame({'isFraud':y_train.values, 'prob_fraud':y_train_pred})\n",
    "y_train_pred_final.head()"
   ]
  },
  {
   "cell_type": "markdown",
   "id": "46a4469b",
   "metadata": {},
   "source": [
    "The logistic curve gives  just the probabilities and not the actual classification of fruadulent or not.So I need to find a threshold probability to classify transactions as 'fraud' and 'not fraud'. Here, to starts with I am choosing 0.5 as an arbitrary cutoff wherein if the probability of a particular transaction being fraud is less than 0.5,I would classify it as 'not fraud' and if it's greater than 0.5, I would classify it as 'Fraud'"
   ]
  },
  {
   "cell_type": "code",
   "execution_count": 96,
   "id": "684ee4a7",
   "metadata": {},
   "outputs": [],
   "source": [
    "y_train_pred_final['predicted'] = y_train_pred_final['prob_fraud'].apply(lambda x : 1 if x>0.5 else 0)"
   ]
  },
  {
   "cell_type": "code",
   "execution_count": 97,
   "id": "3ecba1d5",
   "metadata": {
    "scrolled": true
   },
   "outputs": [
    {
     "data": {
      "text/html": [
       "<div>\n",
       "<style scoped>\n",
       "    .dataframe tbody tr th:only-of-type {\n",
       "        vertical-align: middle;\n",
       "    }\n",
       "\n",
       "    .dataframe tbody tr th {\n",
       "        vertical-align: top;\n",
       "    }\n",
       "\n",
       "    .dataframe thead th {\n",
       "        text-align: right;\n",
       "    }\n",
       "</style>\n",
       "<table border=\"1\" class=\"dataframe\">\n",
       "  <thead>\n",
       "    <tr style=\"text-align: right;\">\n",
       "      <th></th>\n",
       "      <th>isFraud</th>\n",
       "      <th>prob_fraud</th>\n",
       "      <th>predicted</th>\n",
       "    </tr>\n",
       "  </thead>\n",
       "  <tbody>\n",
       "    <tr>\n",
       "      <th>0</th>\n",
       "      <td>0</td>\n",
       "      <td>0.341062</td>\n",
       "      <td>0</td>\n",
       "    </tr>\n",
       "    <tr>\n",
       "      <th>1</th>\n",
       "      <td>0</td>\n",
       "      <td>0.297322</td>\n",
       "      <td>0</td>\n",
       "    </tr>\n",
       "    <tr>\n",
       "      <th>2</th>\n",
       "      <td>0</td>\n",
       "      <td>0.553637</td>\n",
       "      <td>1</td>\n",
       "    </tr>\n",
       "    <tr>\n",
       "      <th>3</th>\n",
       "      <td>0</td>\n",
       "      <td>0.417857</td>\n",
       "      <td>0</td>\n",
       "    </tr>\n",
       "    <tr>\n",
       "      <th>4</th>\n",
       "      <td>0</td>\n",
       "      <td>0.674989</td>\n",
       "      <td>1</td>\n",
       "    </tr>\n",
       "  </tbody>\n",
       "</table>\n",
       "</div>"
      ],
      "text/plain": [
       "   isFraud  prob_fraud  predicted\n",
       "0        0    0.341062          0\n",
       "1        0    0.297322          0\n",
       "2        0    0.553637          1\n",
       "3        0    0.417857          0\n",
       "4        0    0.674989          1"
      ]
     },
     "execution_count": 97,
     "metadata": {},
     "output_type": "execute_result"
    }
   ],
   "source": [
    "y_train_pred_final.head()"
   ]
  },
  {
   "cell_type": "markdown",
   "id": "4cb2da55",
   "metadata": {},
   "source": [
    "Since I am classifying the transactions into two classes, this will obviously have some errors. The classes of errors that would be there are:\n",
    "\n",
    "    'fraud' transactions being (incorrectly) classified as 'not fraud'\n",
    "    'not fraud' transactions being (incorrectly) classified as 'fraud'\n",
    "\n",
    " \n",
    "\n",
    "To capture these errors, and to evaluate how well the model is, I will use 'Confusion Matrix'"
   ]
  },
  {
   "cell_type": "markdown",
   "id": "0e08e294",
   "metadata": {},
   "source": [
    "\n"
   ]
  },
  {
   "cell_type": "markdown",
   "id": "91125242",
   "metadata": {},
   "source": [
    "### Model Evaluation: Accuracy, Sensitivity, and Specificity"
   ]
  },
  {
   "cell_type": "code",
   "execution_count": 98,
   "id": "6a0d9dfb",
   "metadata": {},
   "outputs": [],
   "source": [
    "from sklearn import metrics"
   ]
  },
  {
   "cell_type": "code",
   "execution_count": 99,
   "id": "e8a66461",
   "metadata": {},
   "outputs": [
    {
     "name": "stdout",
     "output_type": "stream",
     "text": [
      "[[1590485  343052]\n",
      " [ 593265 1340272]]\n"
     ]
    }
   ],
   "source": [
    "confusion = metrics.confusion_matrix(y_train_pred_final.isFraud, y_train_pred_final.predicted)\n",
    "print(confusion)"
   ]
  },
  {
   "cell_type": "code",
   "execution_count": 100,
   "id": "9229c54f",
   "metadata": {},
   "outputs": [],
   "source": [
    "# confusion matrix\n",
    "\n",
    "##predicted     not fraud     fraud\n",
    "##actual\n",
    "\n",
    "#not fraud     1590485        343052\n",
    "\n",
    "#fraud          593265           1340272"
   ]
  },
  {
   "cell_type": "code",
   "execution_count": 101,
   "id": "4926643d",
   "metadata": {},
   "outputs": [
    {
     "name": "stdout",
     "output_type": "stream",
     "text": [
      "0.7578745583870389\n"
     ]
    }
   ],
   "source": [
    "# Let's check the overall accuracy.\n",
    "print(accuracy_score(y_train_pred_final.isFraud,y_train_pred_final.predicted))"
   ]
  },
  {
   "cell_type": "markdown",
   "id": "25e5a40b",
   "metadata": {},
   "source": [
    "- We got an accuracy of 75.79%\n",
    "- Our model is able to  correctly predict the lables  75.79% of the time (in train set)"
   ]
  },
  {
   "cell_type": "markdown",
   "id": "997f6a78",
   "metadata": {},
   "source": [
    "\n"
   ]
  },
  {
   "cell_type": "markdown",
   "id": "ef6f67a1",
   "metadata": {},
   "source": [
    "#### Metrics beyond simply accuracy"
   ]
  },
  {
   "cell_type": "code",
   "execution_count": 102,
   "id": "2b569339",
   "metadata": {},
   "outputs": [],
   "source": [
    "TP = confusion[1,1] #true positive\n",
    "TN = confusion[0,0] #true negative\n",
    "FP = confusion[0,1] #false positive\n",
    "FN = confusion[1,0] #flase negative"
   ]
  },
  {
   "cell_type": "code",
   "execution_count": 103,
   "id": "e4b6cd0a",
   "metadata": {},
   "outputs": [
    {
     "data": {
      "text/plain": [
       "0.6931711159393381"
      ]
     },
     "execution_count": 103,
     "metadata": {},
     "output_type": "execute_result"
    }
   ],
   "source": [
    "# Let's see the sensitivity of the logistic regression model\n",
    "TP/(TP+FN)"
   ]
  },
  {
   "cell_type": "code",
   "execution_count": 104,
   "id": "ec7ecf03",
   "metadata": {},
   "outputs": [
    {
     "data": {
      "text/plain": [
       "0.8225780008347396"
      ]
     },
     "execution_count": 104,
     "metadata": {},
     "output_type": "execute_result"
    }
   ],
   "source": [
    "# Let's calculate specificity\n",
    "TN/(TN+FP)"
   ]
  },
  {
   "cell_type": "markdown",
   "id": "cd0c89c9",
   "metadata": {},
   "source": [
    "- The model has sensitivity around 69.32% and specificity around 82.26%\n",
    "- Model is able to correctly predict 69.32% of the fraud labels\n",
    "- Model is able to correctly predict 82.26% of the 'not fraud' labels "
   ]
  },
  {
   "cell_type": "code",
   "execution_count": 105,
   "id": "9a7c33ef",
   "metadata": {},
   "outputs": [
    {
     "data": {
      "text/plain": [
       "0.17742199916526036"
      ]
     },
     "execution_count": 105,
     "metadata": {},
     "output_type": "execute_result"
    }
   ],
   "source": [
    "# Calculating false postive rate - predicting fraud when transaction is not fraud\n",
    "FP/(FP+TN)"
   ]
  },
  {
   "cell_type": "code",
   "execution_count": 106,
   "id": "51adce73",
   "metadata": {},
   "outputs": [
    {
     "data": {
      "text/plain": [
       "0.7962056027241339"
      ]
     },
     "execution_count": 106,
     "metadata": {},
     "output_type": "execute_result"
    }
   ],
   "source": [
    "# positive predictive value \n",
    "TP/(TP+FP)"
   ]
  },
  {
   "cell_type": "code",
   "execution_count": 107,
   "id": "88b823e3",
   "metadata": {
    "scrolled": true
   },
   "outputs": [
    {
     "data": {
      "text/plain": [
       "0.728327418431597"
      ]
     },
     "execution_count": 107,
     "metadata": {},
     "output_type": "execute_result"
    }
   ],
   "source": [
    "# Negative predictive value\n",
    "TN/(TN+FN)"
   ]
  },
  {
   "cell_type": "markdown",
   "id": "94f83e2f",
   "metadata": {},
   "source": [
    "\n"
   ]
  },
  {
   "cell_type": "markdown",
   "id": "1708b58e",
   "metadata": {},
   "source": [
    "#### Plotting the ROC Curve"
   ]
  },
  {
   "cell_type": "markdown",
   "id": "10472a3c",
   "metadata": {},
   "source": [
    "An ROC curve demonstrates several things:\n",
    "\n",
    "- It shows the tradeoff between sensitivity and specificity (any increase in sensitivity will be accompanied by a decrease in specificity).\n",
    "- The closer the curve follows the left-hand border and then the top border of the ROC space, the more accurate the test.\n",
    "- The closer the curve comes to the 45-degree diagonal of the ROC space, the less accurate the test."
   ]
  },
  {
   "cell_type": "code",
   "execution_count": 108,
   "id": "2467ca61",
   "metadata": {},
   "outputs": [],
   "source": [
    "# defining function for drawing ROC curve\n",
    "def draw_roc( actual, probs ):\n",
    "    fpr, tpr, thresholds = metrics.roc_curve( actual, probs,\n",
    "                                              drop_intermediate = False )\n",
    "    auc_score = metrics.roc_auc_score( actual, probs )\n",
    "    plt.figure(figsize=(5, 5))\n",
    "    plt.plot( fpr, tpr, label='ROC curve (area = %0.2f)' % auc_score )\n",
    "    plt.plot([0, 1], [0, 1], 'k--')\n",
    "    plt.xlim([0.0, 1.0])\n",
    "    plt.ylim([0.0, 1.05])\n",
    "    plt.xlabel('False Positive Rate or [1 - True Negative Rate]')\n",
    "    plt.ylabel('True Positive Rate')\n",
    "    plt.title('Receiver operating characteristic example')\n",
    "    plt.legend(loc=\"lower right\")\n",
    "    plt.show()\n",
    "\n",
    "    return None"
   ]
  },
  {
   "cell_type": "code",
   "execution_count": 109,
   "id": "0a5f1651",
   "metadata": {},
   "outputs": [],
   "source": [
    "fpr,tpr,thresholds = metrics.roc_curve(y_train_pred_final.isFraud,y_train_pred_final['prob_fraud'],drop_intermediate= False)"
   ]
  },
  {
   "cell_type": "code",
   "execution_count": 110,
   "id": "916ad88a",
   "metadata": {},
   "outputs": [
    {
     "data": {
      "image/png": "[encoded data removed]",
      "text/plain": [
       "<Figure size 360x360 with 1 Axes>"
      ]
     },
     "metadata": {
      "needs_background": "light"
     },
     "output_type": "display_data"
    }
   ],
   "source": [
    "draw_roc(y_train_pred_final.isFraud,y_train_pred_final['prob_fraud'])"
   ]
  },
  {
   "cell_type": "markdown",
   "id": "e9496942",
   "metadata": {},
   "source": [
    "- This curve is towards the upper-left corner, there is good amont of area under the curve (AUC) indicating that the model is good. \n",
    "- The AUC score for train dataset is 0.82"
   ]
  },
  {
   "cell_type": "markdown",
   "id": "aa69f6bb",
   "metadata": {},
   "source": [
    "\n"
   ]
  },
  {
   "cell_type": "markdown",
   "id": "e04ab49a",
   "metadata": {},
   "source": [
    "#### Model Evaluation: Precision and Recall"
   ]
  },
  {
   "cell_type": "code",
   "execution_count": 111,
   "id": "cf5adde5",
   "metadata": {},
   "outputs": [],
   "source": [
    "from sklearn.metrics import precision_score, recall_score"
   ]
  },
  {
   "cell_type": "code",
   "execution_count": 112,
   "id": "aea8281c",
   "metadata": {},
   "outputs": [
    {
     "data": {
      "text/plain": [
       "0.7962056027241339"
      ]
     },
     "execution_count": 112,
     "metadata": {},
     "output_type": "execute_result"
    }
   ],
   "source": [
    "# Precision Score\n",
    "precision_score(y_train_pred_final.isFraud,y_train_pred_final.predicted)"
   ]
  },
  {
   "cell_type": "code",
   "execution_count": 113,
   "id": "45197e50",
   "metadata": {},
   "outputs": [
    {
     "data": {
      "text/plain": [
       "0.6931711159393381"
      ]
     },
     "execution_count": 113,
     "metadata": {},
     "output_type": "execute_result"
    }
   ],
   "source": [
    "# Recall Score\n",
    "recall_score(y_train_pred_final.isFraud,y_train_pred_final.predicted)"
   ]
  },
  {
   "cell_type": "markdown",
   "id": "21c9f4b3",
   "metadata": {},
   "source": [
    "- The model has high precision but relatively lower recall\n",
    "- So I need to find an optimum cut-off to have a good balance between these two"
   ]
  },
  {
   "cell_type": "code",
   "execution_count": 114,
   "id": "578bfcf9",
   "metadata": {
    "scrolled": true
   },
   "outputs": [
    {
     "data": {
      "text/html": [
       "<div>\n",
       "<style scoped>\n",
       "    .dataframe tbody tr th:only-of-type {\n",
       "        vertical-align: middle;\n",
       "    }\n",
       "\n",
       "    .dataframe tbody tr th {\n",
       "        vertical-align: top;\n",
       "    }\n",
       "\n",
       "    .dataframe thead th {\n",
       "        text-align: right;\n",
       "    }\n",
       "</style>\n",
       "<table border=\"1\" class=\"dataframe\">\n",
       "  <thead>\n",
       "    <tr style=\"text-align: right;\">\n",
       "      <th></th>\n",
       "      <th>isFraud</th>\n",
       "      <th>prob_fraud</th>\n",
       "      <th>predicted</th>\n",
       "      <th>0.0</th>\n",
       "      <th>0.1</th>\n",
       "      <th>0.2</th>\n",
       "      <th>0.3</th>\n",
       "      <th>0.4</th>\n",
       "      <th>0.5</th>\n",
       "      <th>0.6</th>\n",
       "      <th>0.7</th>\n",
       "      <th>0.8</th>\n",
       "      <th>0.9</th>\n",
       "    </tr>\n",
       "  </thead>\n",
       "  <tbody>\n",
       "    <tr>\n",
       "      <th>0</th>\n",
       "      <td>0</td>\n",
       "      <td>0.341062</td>\n",
       "      <td>0</td>\n",
       "      <td>1</td>\n",
       "      <td>1</td>\n",
       "      <td>1</td>\n",
       "      <td>1</td>\n",
       "      <td>0</td>\n",
       "      <td>0</td>\n",
       "      <td>0</td>\n",
       "      <td>0</td>\n",
       "      <td>0</td>\n",
       "      <td>0</td>\n",
       "    </tr>\n",
       "    <tr>\n",
       "      <th>1</th>\n",
       "      <td>0</td>\n",
       "      <td>0.297322</td>\n",
       "      <td>0</td>\n",
       "      <td>1</td>\n",
       "      <td>1</td>\n",
       "      <td>1</td>\n",
       "      <td>0</td>\n",
       "      <td>0</td>\n",
       "      <td>0</td>\n",
       "      <td>0</td>\n",
       "      <td>0</td>\n",
       "      <td>0</td>\n",
       "      <td>0</td>\n",
       "    </tr>\n",
       "    <tr>\n",
       "      <th>2</th>\n",
       "      <td>0</td>\n",
       "      <td>0.553637</td>\n",
       "      <td>1</td>\n",
       "      <td>1</td>\n",
       "      <td>1</td>\n",
       "      <td>1</td>\n",
       "      <td>1</td>\n",
       "      <td>1</td>\n",
       "      <td>1</td>\n",
       "      <td>0</td>\n",
       "      <td>0</td>\n",
       "      <td>0</td>\n",
       "      <td>0</td>\n",
       "    </tr>\n",
       "    <tr>\n",
       "      <th>3</th>\n",
       "      <td>0</td>\n",
       "      <td>0.417857</td>\n",
       "      <td>0</td>\n",
       "      <td>1</td>\n",
       "      <td>1</td>\n",
       "      <td>1</td>\n",
       "      <td>1</td>\n",
       "      <td>1</td>\n",
       "      <td>0</td>\n",
       "      <td>0</td>\n",
       "      <td>0</td>\n",
       "      <td>0</td>\n",
       "      <td>0</td>\n",
       "    </tr>\n",
       "    <tr>\n",
       "      <th>4</th>\n",
       "      <td>0</td>\n",
       "      <td>0.674989</td>\n",
       "      <td>1</td>\n",
       "      <td>1</td>\n",
       "      <td>1</td>\n",
       "      <td>1</td>\n",
       "      <td>1</td>\n",
       "      <td>1</td>\n",
       "      <td>1</td>\n",
       "      <td>1</td>\n",
       "      <td>0</td>\n",
       "      <td>0</td>\n",
       "      <td>0</td>\n",
       "    </tr>\n",
       "  </tbody>\n",
       "</table>\n",
       "</div>"
      ],
      "text/plain": [
       "   isFraud  prob_fraud  predicted  0.0  0.1  0.2  0.3  0.4  0.5  0.6  0.7  \\\n",
       "0        0    0.341062          0    1    1    1    1    0    0    0    0   \n",
       "1        0    0.297322          0    1    1    1    0    0    0    0    0   \n",
       "2        0    0.553637          1    1    1    1    1    1    1    0    0   \n",
       "3        0    0.417857          0    1    1    1    1    1    0    0    0   \n",
       "4        0    0.674989          1    1    1    1    1    1    1    1    0   \n",
       "\n",
       "   0.8  0.9  \n",
       "0    0    0  \n",
       "1    0    0  \n",
       "2    0    0  \n",
       "3    0    0  \n",
       "4    0    0  "
      ]
     },
     "execution_count": 114,
     "metadata": {},
     "output_type": "execute_result"
    }
   ],
   "source": [
    "# Let's create columns with different probability cutoffs \n",
    "number = [float(x/10) for x in range(10)]\n",
    "\n",
    "for i in number:\n",
    "    y_train_pred_final[i] = y_train_pred_final['prob_fraud'].apply(lambda j: 1 if j>i else 0)\n",
    "    \n",
    "y_train_pred_final.head()"
   ]
  },
  {
   "cell_type": "code",
   "execution_count": 115,
   "id": "8aca5d90",
   "metadata": {
    "scrolled": true
   },
   "outputs": [
    {
     "name": "stdout",
     "output_type": "stream",
     "text": [
      "     prob  accuracy     preci    recall\n",
      "0.0   0.0  0.505029  0.502533  0.997775\n",
      "0.1   0.1  0.512713  0.506465  0.995911\n",
      "0.2   0.2  0.557433  0.531291  0.975152\n",
      "0.3   0.3  0.628242  0.582598  0.904544\n",
      "0.4   0.4  0.733172  0.699340  0.818030\n",
      "0.5   0.5  0.757875  0.796206  0.693171\n",
      "0.6   0.6  0.718450  0.847536  0.532734\n",
      "0.7   0.7  0.667807  0.918300  0.368390\n",
      "0.8   0.8  0.623011  0.956597  0.257716\n",
      "0.9   0.9  0.572442  0.973292  0.148972\n"
     ]
    }
   ],
   "source": [
    "# Now let's calculate precision, recall and accuracy for various probability cutoffs.\n",
    "cutoff_df = pd.DataFrame(columns = ['prob','accuracy','preci','recall'])\n",
    "\n",
    "for i in number:\n",
    "    cm1 = metrics.confusion_matrix(y_train_pred_final.isFraud,y_train_pred_final[i])\n",
    "    total1 = sum(sum(cm1))\n",
    "    accuracy = (cm1[0,0]+cm1[1,1])/ total1 #TN+TP/TOTAL\n",
    "    precision = precision_score(y_train_pred_final.isFraud,y_train_pred_final[i])\n",
    "    recall = recall_score(y_train_pred_final.isFraud,y_train_pred_final[i])\n",
    "    cutoff_df.loc[i] = [i,accuracy,precision,recall]\n",
    "print(cutoff_df)"
   ]
  },
  {
   "cell_type": "code",
   "execution_count": 116,
   "id": "ffb78f14",
   "metadata": {
    "scrolled": true
   },
   "outputs": [
    {
     "data": {
      "image/png": "[encoded data removed]",
      "text/plain": [
       "<Figure size 432x288 with 1 Axes>"
      ]
     },
     "metadata": {
      "needs_background": "light"
     },
     "output_type": "display_data"
    }
   ],
   "source": [
    "# Let's plot accuracy precision and recall for various probabilities.\n",
    "cutoff_df.plot.line(x= 'prob',y =['accuracy','preci','recall'])\n",
    "plt.show()"
   ]
  },
  {
   "cell_type": "markdown",
   "id": "bac4b0cf",
   "metadata": {},
   "source": [
    "- Our initial probability cutoff was 0.5\n",
    "- But From the curve above, we can see that the optimum point is above 0.4 but less than 0.5\n",
    "- So let's plot the same for values between 0.4 and 0.5"
   ]
  },
  {
   "cell_type": "code",
   "execution_count": 117,
   "id": "0412e165",
   "metadata": {},
   "outputs": [
    {
     "name": "stdout",
     "output_type": "stream",
     "text": [
      "      prob  accuracy     preci    recall\n",
      "0.40  0.40  0.733172  0.699340  0.818030\n",
      "0.41  0.41  0.742547  0.713810  0.809751\n",
      "0.42  0.42  0.752524  0.729758  0.802067\n",
      "0.43  0.43  0.760432  0.744587  0.792825\n",
      "0.44  0.44  0.767032  0.760015  0.780527\n",
      "0.45  0.45  0.773250  0.775865  0.768510\n",
      "0.46  0.46  0.775638  0.787679  0.754711\n",
      "0.47  0.47  0.774094  0.793210  0.741496\n",
      "0.48  0.48  0.768890  0.794701  0.725098\n",
      "0.49  0.49  0.764104  0.795720  0.710649\n",
      "0.50  0.50  0.757875  0.796206  0.693171\n"
     ]
    }
   ],
   "source": [
    "number=[0.4,0.41,0.42,0.43,0.44,0.45,0.46,0.47,0.48,0.49,0.5]\n",
    "for i in number:\n",
    "    y_train_pred_final[i] = y_train_pred_final['prob_fraud'].apply(lambda j: 1 if j>i else 0)\n",
    "    \n",
    "cutoff_df = pd.DataFrame(columns = ['prob','accuracy','preci','recall'])\n",
    "\n",
    "for i in number:\n",
    "    cm1 = metrics.confusion_matrix(y_train_pred_final.isFraud,y_train_pred_final[i])\n",
    "    total1 = sum(sum(cm1))\n",
    "    accuracy = (cm1[0,0]+cm1[1,1])/ total1 #TN+TP/TOTAL\n",
    "    precision = precision_score(y_train_pred_final.isFraud,y_train_pred_final[i])\n",
    "    recall = recall_score(y_train_pred_final.isFraud,y_train_pred_final[i])\n",
    "    cutoff_df.loc[i] = [i,accuracy,precision,recall]\n",
    "print(cutoff_df)\n"
   ]
  },
  {
   "cell_type": "code",
   "execution_count": 118,
   "id": "d3663304",
   "metadata": {},
   "outputs": [
    {
     "data": {
      "image/png": "[encoded data removed]",
      "text/plain": [
       "<Figure size 432x288 with 1 Axes>"
      ]
     },
     "metadata": {
      "needs_background": "light"
     },
     "output_type": "display_data"
    }
   ],
   "source": [
    "# Let's plot accuracy precision and recall for various probabilities.\n",
    "cutoff_df.plot.line(x= 'prob',y =['accuracy','preci','recall'])\n",
    "plt.show()"
   ]
  },
  {
   "cell_type": "markdown",
   "id": "638556d6",
   "metadata": {},
   "source": [
    "- Optimum probability cut off is 0.45"
   ]
  },
  {
   "cell_type": "code",
   "execution_count": 119,
   "id": "9b281f9a",
   "metadata": {},
   "outputs": [],
   "source": [
    "# final prediction using cutoff of 0.45\n",
    "y_train_pred_final['final_predicted'] = y_train_pred_final['prob_fraud'].apply(lambda x: 1 if x>0.45 else 0)"
   ]
  },
  {
   "cell_type": "code",
   "execution_count": 120,
   "id": "39229949",
   "metadata": {},
   "outputs": [
    {
     "data": {
      "text/plain": [
       "0.7732497490350585"
      ]
     },
     "execution_count": 120,
     "metadata": {},
     "output_type": "execute_result"
    }
   ],
   "source": [
    "# Let's check the overall accuracy.\n",
    "metrics.accuracy_score(y_train_pred_final.isFraud,y_train_pred_final.final_predicted)"
   ]
  },
  {
   "cell_type": "code",
   "execution_count": 121,
   "id": "aac78bfd",
   "metadata": {},
   "outputs": [],
   "source": [
    "confusion2 = metrics.confusion_matrix(y_train_pred_final.isFraud,y_train_pred_final.final_predicted)"
   ]
  },
  {
   "cell_type": "code",
   "execution_count": 122,
   "id": "441e6af3",
   "metadata": {},
   "outputs": [
    {
     "data": {
      "text/plain": [
       "array([[1504272,  429265],\n",
       "       [ 447595, 1485942]], dtype=int64)"
      ]
     },
     "execution_count": 122,
     "metadata": {},
     "output_type": "execute_result"
    }
   ],
   "source": [
    "confusion2"
   ]
  },
  {
   "cell_type": "code",
   "execution_count": 123,
   "id": "27e2cabd",
   "metadata": {
    "scrolled": false
   },
   "outputs": [
    {
     "name": "stdout",
     "output_type": "stream",
     "text": [
      "sensitivity :  0.7685097311300482\n",
      "specificity :  0.7779897669400689\n"
     ]
    }
   ],
   "source": [
    "TP = confusion2[1,1] # True positive\n",
    "TN = confusion2[0,0] # True negative\n",
    "FP = confusion2[0,1] # False positive\n",
    "FN = confusion2[1,0] # False negative\n",
    "# Let's see the sensitivity of our logistic regression model\n",
    "print('sensitivity : ', TP/float(TP+ FN))\n",
    "# Let us calculate specificity\n",
    "print('specificity : ',TN/float(TN+FP))"
   ]
  },
  {
   "cell_type": "code",
   "execution_count": 124,
   "id": "0b5efa74",
   "metadata": {},
   "outputs": [
    {
     "data": {
      "text/plain": [
       "0.7758649587224775"
      ]
     },
     "execution_count": 124,
     "metadata": {},
     "output_type": "execute_result"
    }
   ],
   "source": [
    "# Precision Score\n",
    "precision_score(y_train_pred_final.isFraud,y_train_pred_final.final_predicted)"
   ]
  },
  {
   "cell_type": "code",
   "execution_count": 125,
   "id": "42f3ec47",
   "metadata": {},
   "outputs": [
    {
     "data": {
      "text/plain": [
       "0.7685097311300482"
      ]
     },
     "execution_count": 125,
     "metadata": {},
     "output_type": "execute_result"
    }
   ],
   "source": [
    "# Recall Score\n",
    "recall_score(y_train_pred_final.isFraud,y_train_pred_final.final_predicted)"
   ]
  },
  {
   "cell_type": "markdown",
   "id": "6ca9ab42",
   "metadata": {},
   "source": [
    "- Earlier with 0.5 cut-off\n",
    "    - accuracy: 75.79%\n",
    "    - sensitivity: 69.32%\n",
    "    - specificity : 82.26%\n",
    "    - recall :     69.32\n",
    "    - precision :  79.62%\n",
    "   \n",
    "- After choosing the optimum cut-off at 0.45\n",
    "    - accuracy: 77.32%\n",
    "    - sensitivity: 76.85%\n",
    "    - specificity : 77.8%\n",
    "    - recall :     76.85%\n",
    "    - precision :  77.59%"
   ]
  },
  {
   "cell_type": "markdown",
   "id": "13cb71e1",
   "metadata": {},
   "source": [
    "- Optimum probability cut off is 0.45"
   ]
  },
  {
   "cell_type": "markdown",
   "id": "35094de5",
   "metadata": {},
   "source": [
    "\n"
   ]
  },
  {
   "cell_type": "markdown",
   "id": "9790df1a",
   "metadata": {},
   "source": [
    "####  Making predictions on the test set"
   ]
  },
  {
   "cell_type": "code",
   "execution_count": 126,
   "id": "9f56e31b",
   "metadata": {},
   "outputs": [],
   "source": [
    "X_test_sm = sm.add_constant(X_test[X_train.columns])"
   ]
  },
  {
   "cell_type": "code",
   "execution_count": 127,
   "id": "2a272540",
   "metadata": {},
   "outputs": [
    {
     "data": {
      "text/plain": [
       "4139690    0.288265\n",
       "6226732    0.828458\n",
       "2331293    0.304755\n",
       "5312364    0.697785\n",
       "5044421    0.420396\n",
       "4981499    0.704677\n",
       "529520     0.201881\n",
       "1359426    0.166684\n",
       "3367213    0.347272\n",
       "2653076    0.305337\n",
       "dtype: float64"
      ]
     },
     "execution_count": 127,
     "metadata": {},
     "output_type": "execute_result"
    }
   ],
   "source": [
    "# Making predictions on the test set\n",
    "y_test_pred = lgm4.predict(X_test_sm)\n",
    "y_test_pred[:10]"
   ]
  },
  {
   "cell_type": "code",
   "execution_count": 128,
   "id": "32740d74",
   "metadata": {},
   "outputs": [
    {
     "data": {
      "text/html": [
       "<div>\n",
       "<style scoped>\n",
       "    .dataframe tbody tr th:only-of-type {\n",
       "        vertical-align: middle;\n",
       "    }\n",
       "\n",
       "    .dataframe tbody tr th {\n",
       "        vertical-align: top;\n",
       "    }\n",
       "\n",
       "    .dataframe thead th {\n",
       "        text-align: right;\n",
       "    }\n",
       "</style>\n",
       "<table border=\"1\" class=\"dataframe\">\n",
       "  <thead>\n",
       "    <tr style=\"text-align: right;\">\n",
       "      <th></th>\n",
       "      <th>0</th>\n",
       "    </tr>\n",
       "  </thead>\n",
       "  <tbody>\n",
       "    <tr>\n",
       "      <th>4139690</th>\n",
       "      <td>0.288265</td>\n",
       "    </tr>\n",
       "    <tr>\n",
       "      <th>6226732</th>\n",
       "      <td>0.828458</td>\n",
       "    </tr>\n",
       "    <tr>\n",
       "      <th>2331293</th>\n",
       "      <td>0.304755</td>\n",
       "    </tr>\n",
       "    <tr>\n",
       "      <th>5312364</th>\n",
       "      <td>0.697785</td>\n",
       "    </tr>\n",
       "    <tr>\n",
       "      <th>5044421</th>\n",
       "      <td>0.420396</td>\n",
       "    </tr>\n",
       "  </tbody>\n",
       "</table>\n",
       "</div>"
      ],
      "text/plain": [
       "                0\n",
       "4139690  0.288265\n",
       "6226732  0.828458\n",
       "2331293  0.304755\n",
       "5312364  0.697785\n",
       "5044421  0.420396"
      ]
     },
     "execution_count": 128,
     "metadata": {},
     "output_type": "execute_result"
    }
   ],
   "source": [
    "# Converting y_test_pred(which is an array) to a dataframe \n",
    "y_test_pred_df = pd.DataFrame(y_test_pred)\n",
    "y_test_pred_df.head()"
   ]
  },
  {
   "cell_type": "code",
   "execution_count": 129,
   "id": "ca80f02e",
   "metadata": {},
   "outputs": [
    {
     "data": {
      "text/html": [
       "<div>\n",
       "<style scoped>\n",
       "    .dataframe tbody tr th:only-of-type {\n",
       "        vertical-align: middle;\n",
       "    }\n",
       "\n",
       "    .dataframe tbody tr th {\n",
       "        vertical-align: top;\n",
       "    }\n",
       "\n",
       "    .dataframe thead th {\n",
       "        text-align: right;\n",
       "    }\n",
       "</style>\n",
       "<table border=\"1\" class=\"dataframe\">\n",
       "  <thead>\n",
       "    <tr style=\"text-align: right;\">\n",
       "      <th></th>\n",
       "      <th>isFraud</th>\n",
       "    </tr>\n",
       "  </thead>\n",
       "  <tbody>\n",
       "    <tr>\n",
       "      <th>4139690</th>\n",
       "      <td>0</td>\n",
       "    </tr>\n",
       "    <tr>\n",
       "      <th>6226732</th>\n",
       "      <td>0</td>\n",
       "    </tr>\n",
       "    <tr>\n",
       "      <th>2331293</th>\n",
       "      <td>0</td>\n",
       "    </tr>\n",
       "    <tr>\n",
       "      <th>5312364</th>\n",
       "      <td>0</td>\n",
       "    </tr>\n",
       "    <tr>\n",
       "      <th>5044421</th>\n",
       "      <td>0</td>\n",
       "    </tr>\n",
       "  </tbody>\n",
       "</table>\n",
       "</div>"
      ],
      "text/plain": [
       "         isFraud\n",
       "4139690        0\n",
       "6226732        0\n",
       "2331293        0\n",
       "5312364        0\n",
       "5044421        0"
      ]
     },
     "execution_count": 129,
     "metadata": {},
     "output_type": "execute_result"
    }
   ],
   "source": [
    "# Converting y_test to dataframe\n",
    "y_test_df = pd.DataFrame(y_test)\n",
    "y_test_df.head()"
   ]
  },
  {
   "cell_type": "code",
   "execution_count": 130,
   "id": "cbdbd87d",
   "metadata": {},
   "outputs": [
    {
     "data": {
      "text/html": [
       "<div>\n",
       "<style scoped>\n",
       "    .dataframe tbody tr th:only-of-type {\n",
       "        vertical-align: middle;\n",
       "    }\n",
       "\n",
       "    .dataframe tbody tr th {\n",
       "        vertical-align: top;\n",
       "    }\n",
       "\n",
       "    .dataframe thead th {\n",
       "        text-align: right;\n",
       "    }\n",
       "</style>\n",
       "<table border=\"1\" class=\"dataframe\">\n",
       "  <thead>\n",
       "    <tr style=\"text-align: right;\">\n",
       "      <th></th>\n",
       "      <th>isFraud</th>\n",
       "      <th>prob_fraud</th>\n",
       "    </tr>\n",
       "  </thead>\n",
       "  <tbody>\n",
       "    <tr>\n",
       "      <th>4139690</th>\n",
       "      <td>0</td>\n",
       "      <td>0.288265</td>\n",
       "    </tr>\n",
       "    <tr>\n",
       "      <th>6226732</th>\n",
       "      <td>0</td>\n",
       "      <td>0.828458</td>\n",
       "    </tr>\n",
       "    <tr>\n",
       "      <th>2331293</th>\n",
       "      <td>0</td>\n",
       "      <td>0.304755</td>\n",
       "    </tr>\n",
       "    <tr>\n",
       "      <th>5312364</th>\n",
       "      <td>0</td>\n",
       "      <td>0.697785</td>\n",
       "    </tr>\n",
       "    <tr>\n",
       "      <th>5044421</th>\n",
       "      <td>0</td>\n",
       "      <td>0.420396</td>\n",
       "    </tr>\n",
       "  </tbody>\n",
       "</table>\n",
       "</div>"
      ],
      "text/plain": [
       "         isFraud  prob_fraud\n",
       "4139690        0    0.288265\n",
       "6226732        0    0.828458\n",
       "2331293        0    0.304755\n",
       "5312364        0    0.697785\n",
       "5044421        0    0.420396"
      ]
     },
     "execution_count": 130,
     "metadata": {},
     "output_type": "execute_result"
    }
   ],
   "source": [
    "#appending both\n",
    "y_test_pred_final = pd.concat([y_test_df,y_test_pred_df],axis=1)\n",
    "y_test_pred_final = y_test_pred_final.rename(columns = {0:'prob_fraud'})\n",
    "y_test_pred_final.head()"
   ]
  },
  {
   "cell_type": "code",
   "execution_count": 131,
   "id": "cde05d1c",
   "metadata": {},
   "outputs": [
    {
     "data": {
      "text/html": [
       "<div>\n",
       "<style scoped>\n",
       "    .dataframe tbody tr th:only-of-type {\n",
       "        vertical-align: middle;\n",
       "    }\n",
       "\n",
       "    .dataframe tbody tr th {\n",
       "        vertical-align: top;\n",
       "    }\n",
       "\n",
       "    .dataframe thead th {\n",
       "        text-align: right;\n",
       "    }\n",
       "</style>\n",
       "<table border=\"1\" class=\"dataframe\">\n",
       "  <thead>\n",
       "    <tr style=\"text-align: right;\">\n",
       "      <th></th>\n",
       "      <th>isFraud</th>\n",
       "      <th>prob_fraud</th>\n",
       "      <th>final_predicted</th>\n",
       "    </tr>\n",
       "  </thead>\n",
       "  <tbody>\n",
       "    <tr>\n",
       "      <th>4139690</th>\n",
       "      <td>0</td>\n",
       "      <td>0.288265</td>\n",
       "      <td>0</td>\n",
       "    </tr>\n",
       "    <tr>\n",
       "      <th>6226732</th>\n",
       "      <td>0</td>\n",
       "      <td>0.828458</td>\n",
       "      <td>1</td>\n",
       "    </tr>\n",
       "    <tr>\n",
       "      <th>2331293</th>\n",
       "      <td>0</td>\n",
       "      <td>0.304755</td>\n",
       "      <td>0</td>\n",
       "    </tr>\n",
       "    <tr>\n",
       "      <th>5312364</th>\n",
       "      <td>0</td>\n",
       "      <td>0.697785</td>\n",
       "      <td>1</td>\n",
       "    </tr>\n",
       "    <tr>\n",
       "      <th>5044421</th>\n",
       "      <td>0</td>\n",
       "      <td>0.420396</td>\n",
       "      <td>0</td>\n",
       "    </tr>\n",
       "  </tbody>\n",
       "</table>\n",
       "</div>"
      ],
      "text/plain": [
       "         isFraud  prob_fraud  final_predicted\n",
       "4139690        0    0.288265                0\n",
       "6226732        0    0.828458                1\n",
       "2331293        0    0.304755                0\n",
       "5312364        0    0.697785                1\n",
       "5044421        0    0.420396                0"
      ]
     },
     "execution_count": 131,
     "metadata": {},
     "output_type": "execute_result"
    }
   ],
   "source": [
    "y_test_pred_final['final_predicted'] = y_test_pred_final.prob_fraud.apply(lambda x: 1 if x> 0.45 else 0)\n",
    "y_test_pred_final.head()"
   ]
  },
  {
   "cell_type": "code",
   "execution_count": 132,
   "id": "d2af935d",
   "metadata": {},
   "outputs": [
    {
     "data": {
      "text/plain": [
       "0.7782494287849091"
      ]
     },
     "execution_count": 132,
     "metadata": {},
     "output_type": "execute_result"
    }
   ],
   "source": [
    "# Let's check the overall accuracy on test set\n",
    "metrics.accuracy_score(y_test_pred_final.isFraud,y_test_pred_final.final_predicted)"
   ]
  },
  {
   "cell_type": "code",
   "execution_count": 133,
   "id": "63ec2d61",
   "metadata": {
    "scrolled": true
   },
   "outputs": [
    {
     "data": {
      "text/plain": [
       "array([[644970, 183689],\n",
       "       [   613,   1851]], dtype=int64)"
      ]
     },
     "execution_count": 133,
     "metadata": {},
     "output_type": "execute_result"
    }
   ],
   "source": [
    "# let's have a look at the confusion matrix\n",
    "confusion3 = metrics.confusion_matrix(y_test_pred_final.isFraud, y_test_pred_final.final_predicted)\n",
    "confusion3 "
   ]
  },
  {
   "cell_type": "code",
   "execution_count": null,
   "id": "3bd2e703",
   "metadata": {},
   "outputs": [],
   "source": []
  },
  {
   "cell_type": "code",
   "execution_count": 134,
   "id": "46aa67ff",
   "metadata": {},
   "outputs": [
    {
     "data": {
      "text/plain": [
       "0.009976285437102512"
      ]
     },
     "execution_count": 134,
     "metadata": {},
     "output_type": "execute_result"
    }
   ],
   "source": [
    "# Precision Score\n",
    "precision_score(y_test_pred_final.isFraud,y_test_pred_final.final_predicted)"
   ]
  },
  {
   "cell_type": "code",
   "execution_count": 135,
   "id": "663f2043",
   "metadata": {},
   "outputs": [
    {
     "data": {
      "text/plain": [
       "0.7512175324675324"
      ]
     },
     "execution_count": 135,
     "metadata": {},
     "output_type": "execute_result"
    }
   ],
   "source": [
    "# Recall Score\n",
    "recall_score(y_test_pred_final.isFraud,y_test_pred_final.final_predicted)"
   ]
  },
  {
   "cell_type": "code",
   "execution_count": 136,
   "id": "9c4b666a",
   "metadata": {
    "scrolled": true
   },
   "outputs": [
    {
     "data": {
      "image/png": "[encoded data removed]",
      "text/plain": [
       "<Figure size 360x360 with 1 Axes>"
      ]
     },
     "metadata": {
      "needs_background": "light"
     },
     "output_type": "display_data"
    }
   ],
   "source": [
    "### ROC CURVE for test set\n",
    "fpr,tpr,thresholds = metrics.roc_curve(y_test_pred_final.isFraud,y_test_pred_final['prob_fraud'],drop_intermediate= False)\n",
    "draw_roc(y_test_pred_final.isFraud,y_test_pred_final['prob_fraud'])"
   ]
  },
  {
   "cell_type": "markdown",
   "id": "9ec8efb6",
   "metadata": {},
   "source": [
    "\n"
   ]
  },
  {
   "cell_type": "markdown",
   "id": "b4250a18",
   "metadata": {},
   "source": [
    "\n"
   ]
  },
  {
   "cell_type": "markdown",
   "id": "163c46e0",
   "metadata": {},
   "source": [
    "# Random Forest Model"
   ]
  },
  {
   "cell_type": "code",
   "execution_count": 137,
   "id": "c3fb5028",
   "metadata": {},
   "outputs": [
    {
     "data": {
      "text/html": [
       "<div>\n",
       "<style scoped>\n",
       "    .dataframe tbody tr th:only-of-type {\n",
       "        vertical-align: middle;\n",
       "    }\n",
       "\n",
       "    .dataframe tbody tr th {\n",
       "        vertical-align: top;\n",
       "    }\n",
       "\n",
       "    .dataframe thead th {\n",
       "        text-align: right;\n",
       "    }\n",
       "</style>\n",
       "<table border=\"1\" class=\"dataframe\">\n",
       "  <thead>\n",
       "    <tr style=\"text-align: right;\">\n",
       "      <th></th>\n",
       "      <th>step</th>\n",
       "      <th>type</th>\n",
       "      <th>amount</th>\n",
       "      <th>oldbalanceOrg</th>\n",
       "      <th>newbalanceOrig</th>\n",
       "      <th>oldbalanceDest</th>\n",
       "      <th>newbalanceDest</th>\n",
       "      <th>Org_bal_diff</th>\n",
       "      <th>Dest_bal_diff</th>\n",
       "    </tr>\n",
       "  </thead>\n",
       "  <tbody>\n",
       "    <tr>\n",
       "      <th>2</th>\n",
       "      <td>0.0</td>\n",
       "      <td>0.0</td>\n",
       "      <td>0.000002</td>\n",
       "      <td>0.000003</td>\n",
       "      <td>0.0</td>\n",
       "      <td>0.000000</td>\n",
       "      <td>0.000000e+00</td>\n",
       "      <td>0.000018</td>\n",
       "      <td>0.000000</td>\n",
       "    </tr>\n",
       "    <tr>\n",
       "      <th>3</th>\n",
       "      <td>0.0</td>\n",
       "      <td>1.0</td>\n",
       "      <td>0.000002</td>\n",
       "      <td>0.000003</td>\n",
       "      <td>0.0</td>\n",
       "      <td>0.000060</td>\n",
       "      <td>2.807575e-09</td>\n",
       "      <td>0.000018</td>\n",
       "      <td>0.000200</td>\n",
       "    </tr>\n",
       "    <tr>\n",
       "      <th>15</th>\n",
       "      <td>0.0</td>\n",
       "      <td>1.0</td>\n",
       "      <td>0.002479</td>\n",
       "      <td>0.000257</td>\n",
       "      <td>0.0</td>\n",
       "      <td>0.000014</td>\n",
       "      <td>1.446306e-04</td>\n",
       "      <td>0.001532</td>\n",
       "      <td>0.000439</td>\n",
       "    </tr>\n",
       "    <tr>\n",
       "      <th>19</th>\n",
       "      <td>0.0</td>\n",
       "      <td>0.0</td>\n",
       "      <td>0.002329</td>\n",
       "      <td>0.000012</td>\n",
       "      <td>0.0</td>\n",
       "      <td>0.000063</td>\n",
       "      <td>2.807575e-09</td>\n",
       "      <td>0.000070</td>\n",
       "      <td>0.000212</td>\n",
       "    </tr>\n",
       "    <tr>\n",
       "      <th>24</th>\n",
       "      <td>0.0</td>\n",
       "      <td>0.0</td>\n",
       "      <td>0.003372</td>\n",
       "      <td>0.000182</td>\n",
       "      <td>0.0</td>\n",
       "      <td>0.000018</td>\n",
       "      <td>7.634284e-03</td>\n",
       "      <td>0.001083</td>\n",
       "      <td>0.025669</td>\n",
       "    </tr>\n",
       "  </tbody>\n",
       "</table>\n",
       "</div>"
      ],
      "text/plain": [
       "    step  type    amount  oldbalanceOrg  newbalanceOrig  oldbalanceDest  \\\n",
       "2    0.0   0.0  0.000002       0.000003             0.0        0.000000   \n",
       "3    0.0   1.0  0.000002       0.000003             0.0        0.000060   \n",
       "15   0.0   1.0  0.002479       0.000257             0.0        0.000014   \n",
       "19   0.0   0.0  0.002329       0.000012             0.0        0.000063   \n",
       "24   0.0   0.0  0.003372       0.000182             0.0        0.000018   \n",
       "\n",
       "    newbalanceDest  Org_bal_diff  Dest_bal_diff  \n",
       "2     0.000000e+00      0.000018       0.000000  \n",
       "3     2.807575e-09      0.000018       0.000200  \n",
       "15    1.446306e-04      0.001532       0.000439  \n",
       "19    2.807575e-09      0.000070       0.000212  \n",
       "24    7.634284e-03      0.001083       0.025669  "
      ]
     },
     "execution_count": 137,
     "metadata": {},
     "output_type": "execute_result"
    }
   ],
   "source": [
    "X.head()"
   ]
  },
  {
   "cell_type": "code",
   "execution_count": 138,
   "id": "5aa65b07",
   "metadata": {},
   "outputs": [],
   "source": [
    "from imblearn.over_sampling import SMOTE"
   ]
  },
  {
   "cell_type": "code",
   "execution_count": 139,
   "id": "60133285",
   "metadata": {},
   "outputs": [
    {
     "name": "stdout",
     "output_type": "stream",
     "text": [
      "shapes of X train and X test sets: (1939286, 9) & (831123, 9)\n",
      "shapes of y train and y test sets: (1939286,) & (831123,)\n",
      "shapes of X train and X test sets after smote : (3867074, 9) & (831123, 9)\n",
      "shapes of y train and y test sets after smote : (3867074,) & (831123,)\n"
     ]
    }
   ],
   "source": [
    "# Splitting the data into training and testing set\n",
    "X_train,X_test,y_train,y_test = train_test_split(X,y, train_size=0.7,random_state= 100,stratify = y)\n",
    "# Checking shapes of train and test sets\n",
    "print(\"shapes of X train and X test sets: {} & {}\".format(X_train.shape,X_test.shape))\n",
    "print(\"shapes of y train and y test sets: {} & {}\".format(y_train.shape,y_test.shape))\n",
    "# Handling Data Imbalance \n",
    "# instantiating smote\n",
    "smote = SMOTE(random_state=42)\n",
    "#applying smote on data\n",
    "X_train,y_train = smote.fit_resample(X_train,y_train)\n",
    "# Checking shapes of train and test sets after applying smote\n",
    "print(\"shapes of X train and X test sets after smote : {} & {}\".format(X_train.shape,X_test.shape))\n",
    "print(\"shapes of y train and y test sets after smote : {} & {}\".format(y_train.shape,y_test.shape))"
   ]
  },
  {
   "cell_type": "code",
   "execution_count": 140,
   "id": "93116e26",
   "metadata": {},
   "outputs": [
    {
     "data": {
      "text/html": [
       "<style>#sk-container-id-1 {color: black;background-color: white;}#sk-container-id-1 pre{padding: 0;}#sk-container-id-1 div.sk-toggleable {background-color: white;}#sk-container-id-1 label.sk-toggleable__label {cursor: pointer;display: block;width: 100%;margin-bottom: 0;padding: 0.3em;box-sizing: border-box;text-align: center;}#sk-container-id-1 label.sk-toggleable__label-arrow:before {content: \"▸\";float: left;margin-right: 0.25em;color: #696969;}#sk-container-id-1 label.sk-toggleable__label-arrow:hover:before {color: black;}#sk-container-id-1 div.sk-estimator:hover label.sk-toggleable__label-arrow:before {color: black;}#sk-container-id-1 div.sk-toggleable__content {max-height: 0;max-width: 0;overflow: hidden;text-align: left;background-color: #f0f8ff;}#sk-container-id-1 div.sk-toggleable__content pre {margin: 0.2em;color: black;border-radius: 0.25em;background-color: #f0f8ff;}#sk-container-id-1 input.sk-toggleable__control:checked~div.sk-toggleable__content {max-height: 200px;max-width: 100%;overflow: auto;}#sk-container-id-1 input.sk-toggleable__control:checked~label.sk-toggleable__label-arrow:before {content: \"▾\";}#sk-container-id-1 div.sk-estimator input.sk-toggleable__control:checked~label.sk-toggleable__label {background-color: #d4ebff;}#sk-container-id-1 div.sk-label input.sk-toggleable__control:checked~label.sk-toggleable__label {background-color: #d4ebff;}#sk-container-id-1 input.sk-hidden--visually {border: 0;clip: rect(1px 1px 1px 1px);clip: rect(1px, 1px, 1px, 1px);height: 1px;margin: -1px;overflow: hidden;padding: 0;position: absolute;width: 1px;}#sk-container-id-1 div.sk-estimator {font-family: monospace;background-color: #f0f8ff;border: 1px dotted black;border-radius: 0.25em;box-sizing: border-box;margin-bottom: 0.5em;}#sk-container-id-1 div.sk-estimator:hover {background-color: #d4ebff;}#sk-container-id-1 div.sk-parallel-item::after {content: \"\";width: 100%;border-bottom: 1px solid gray;flex-grow: 1;}#sk-container-id-1 div.sk-label:hover label.sk-toggleable__label {background-color: #d4ebff;}#sk-container-id-1 div.sk-serial::before {content: \"\";position: absolute;border-left: 1px solid gray;box-sizing: border-box;top: 0;bottom: 0;left: 50%;z-index: 0;}#sk-container-id-1 div.sk-serial {display: flex;flex-direction: column;align-items: center;background-color: white;padding-right: 0.2em;padding-left: 0.2em;position: relative;}#sk-container-id-1 div.sk-item {position: relative;z-index: 1;}#sk-container-id-1 div.sk-parallel {display: flex;align-items: stretch;justify-content: center;background-color: white;position: relative;}#sk-container-id-1 div.sk-item::before, #sk-container-id-1 div.sk-parallel-item::before {content: \"\";position: absolute;border-left: 1px solid gray;box-sizing: border-box;top: 0;bottom: 0;left: 50%;z-index: -1;}#sk-container-id-1 div.sk-parallel-item {display: flex;flex-direction: column;z-index: 1;position: relative;background-color: white;}#sk-container-id-1 div.sk-parallel-item:first-child::after {align-self: flex-end;width: 50%;}#sk-container-id-1 div.sk-parallel-item:last-child::after {align-self: flex-start;width: 50%;}#sk-container-id-1 div.sk-parallel-item:only-child::after {width: 0;}#sk-container-id-1 div.sk-dashed-wrapped {border: 1px dashed gray;margin: 0 0.4em 0.5em 0.4em;box-sizing: border-box;padding-bottom: 0.4em;background-color: white;}#sk-container-id-1 div.sk-label label {font-family: monospace;font-weight: bold;display: inline-block;line-height: 1.2em;}#sk-container-id-1 div.sk-label-container {text-align: center;}#sk-container-id-1 div.sk-container {/* jupyter's `normalize.less` sets `[hidden] { display: none; }` but bootstrap.min.css set `[hidden] { display: none !important; }` so we also need the `!important` here to be able to override the default hidden behavior on the sphinx rendered scikit-learn.org. See: https://github.com/scikit-learn/scikit-learn/issues/21755 */display: inline-block !important;position: relative;}#sk-container-id-1 div.sk-text-repr-fallback {display: none;}</style><div id=\"sk-container-id-1\" class=\"sk-top-container\"><div class=\"sk-text-repr-fallback\"><pre>RandomForestClassifier(n_jobs=-1, random_state=42)</pre><b>In a Jupyter environment, please rerun this cell to show the HTML representation or trust the notebook. <br />On GitHub, the HTML representation is unable to render, please try loading this page with nbviewer.org.</b></div><div class=\"sk-container\" hidden><div class=\"sk-item\"><div class=\"sk-estimator sk-toggleable\"><input class=\"sk-toggleable__control sk-hidden--visually\" id=\"sk-estimator-id-1\" type=\"checkbox\" checked><label for=\"sk-estimator-id-1\" class=\"sk-toggleable__label sk-toggleable__label-arrow\">RandomForestClassifier</label><div class=\"sk-toggleable__content\"><pre>RandomForestClassifier(n_jobs=-1, random_state=42)</pre></div></div></div></div></div>"
      ],
      "text/plain": [
       "RandomForestClassifier(n_jobs=-1, random_state=42)"
      ]
     },
     "execution_count": 140,
     "metadata": {},
     "output_type": "execute_result"
    }
   ],
   "source": [
    "# Importing random forest classifier from sklearn library\n",
    "from sklearn.ensemble import RandomForestClassifier\n",
    "\n",
    "rf = RandomForestClassifier(random_state=42,n_jobs=-1)\n",
    "# fitting Random forest model with default hyperparameters\n",
    "rf.fit(X_train,y_train)\n"
   ]
  },
  {
   "cell_type": "markdown",
   "id": "b9e213db",
   "metadata": {},
   "source": [
    "#### Predictions on test set"
   ]
  },
  {
   "cell_type": "code",
   "execution_count": 141,
   "id": "c5e9f2ed",
   "metadata": {},
   "outputs": [],
   "source": [
    "from sklearn import metrics"
   ]
  },
  {
   "cell_type": "code",
   "execution_count": 142,
   "id": "b19bea60",
   "metadata": {},
   "outputs": [
    {
     "name": "stdout",
     "output_type": "stream",
     "text": [
      "[[827643   1016]\n",
      " [    56   2408]]\n"
     ]
    }
   ],
   "source": [
    "# prediction on test set\n",
    "y_test_rf_pred = rf.predict(X_test)\n",
    "\n",
    "# Confusion matrix\n",
    "confusion = metrics.confusion_matrix(y_test, y_test_rf_pred)\n",
    "print(confusion)"
   ]
  },
  {
   "cell_type": "code",
   "execution_count": 143,
   "id": "b1608363",
   "metadata": {
    "scrolled": true
   },
   "outputs": [
    {
     "name": "stdout",
     "output_type": "stream",
     "text": [
      "accuracy on test set : 0.9987101788784573\n",
      "recall on test set : 0.98\n",
      "precision on test set : 0.7\n",
      "auc score on test set : 0.99\n",
      "f1 score on test set : 0.82\n"
     ]
    }
   ],
   "source": [
    "#accuracy on test set\n",
    "print('accuracy on test set : {}'.format((accuracy_score(y_test,y_test_rf_pred))))\n",
    "# recall score\n",
    "print('recall on test set : {}'.format(round(recall_score(y_test,y_test_rf_pred),2)))\n",
    "# precision score\n",
    "print('precision on test set : {}'.format(round(precision_score(y_test,y_test_rf_pred),2)))\n",
    "# auc score\n",
    "print('auc score on test set : {}'.format(round(metrics.roc_auc_score(y_test,y_test_rf_pred),2)))\n",
    "# f1 score\n",
    "print('f1 score on test set : {}'.format(round(metrics.f1_score(y_test,y_test_rf_pred),2)))"
   ]
  },
  {
   "cell_type": "markdown",
   "id": "0ff8716c",
   "metadata": {},
   "source": [
    "- This model has better scores than the logistic regression model"
   ]
  },
  {
   "cell_type": "markdown",
   "id": "b2b2ad99",
   "metadata": {},
   "source": [
    "\n"
   ]
  },
  {
   "cell_type": "markdown",
   "id": "3f955b5c",
   "metadata": {},
   "source": [
    "- For predicting fraudulent transactions, first, I made a logistic regression model\n",
    "    - it has an accuracy of 75.79% on the train set and  77.32%   on the test set\n",
    "    -  logistic regression model has similar precision and recall on the training set but a much lower precision score on the test set, which could be a sign of overfitting. \n",
    "    - The transaction amount has the highest coefficient in the model, implying that if the transaction amount is very high, there is a chance that the transaction could be fraudulent\n",
    "    - Other features used in the model are 'step', 'type', 'amount', 'newbalanceOrig', 'oldbalanceDest', and 'Dest_bal_diff'. \n",
    "    - The financial company can focus on these features for predicting fraudulent transactions\n",
    "       \n",
    "- Fraudulent transactions are happening only on payment method types - 'Transfer' & 'Cash_out', so the company needs to keep an eye on these transactions\n",
    "- The random Forest model was performing well on the test set\n",
    "    - accuracy on test set: 0.9987101788784573\n",
    "    - recall on test set: 0.98\n",
    "    - precision on test set: 0.7\n",
    "    - auc score on test set: 0.99\n",
    "    - f1 score on test set: 0.82\n",
    "- we can also build better models using different algorithms and then retrain & maintain these models after regular intervals to keep fraudulent transactions away."
   ]
  }
 ],
 "metadata": {
  "kernelspec": {
   "display_name": "Python 3 (ipykernel)",
   "language": "python",
   "name": "python3"
  },
  "language_info": {
   "codemirror_mode": {
    "name": "ipython",
    "version": 3
   },
   "file_extension": ".py",
   "mimetype": "text/x-python",
   "name": "python",
   "nbconvert_exporter": "python",
   "pygments_lexer": "ipython3",
   "version": "3.9.7"
  }
 },
 "nbformat": 4,
 "nbformat_minor": 5
}
